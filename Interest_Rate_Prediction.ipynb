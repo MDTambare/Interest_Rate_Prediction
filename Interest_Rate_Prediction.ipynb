{
  "nbformat": 4,
  "nbformat_minor": 0,
  "metadata": {
    "colab": {
      "name": "Interest_Rate_Prediction",
      "provenance": [],
      "collapsed_sections": [
        "UTtw1w_D7bf7"
      ]
    },
    "kernelspec": {
      "name": "python3",
      "display_name": "Python 3"
    },
    "language_info": {
      "name": "python"
    }
  },
  "cells": [
    {
      "cell_type": "code",
      "execution_count": 1,
      "metadata": {
        "colab": {
          "base_uri": "https://localhost:8080/"
        },
        "id": "PmJBgpvt6Bm4",
        "outputId": "45e5faf6-5d8d-4b3b-f36e-ab5e35ede11b"
      },
      "outputs": [
        {
          "output_type": "stream",
          "name": "stdout",
          "text": [
            "Drive already mounted at /gdrive; to attempt to forcibly remount, call drive.mount(\"/gdrive\", force_remount=True).\n",
            "/gdrive/My Drive/Case-Studies/Interest Rate\n"
          ]
        }
      ],
      "source": [
        "from google.colab import drive\n",
        "drive.mount('/gdrive')\n",
        "%cd '/gdrive/My Drive/Case-Studies/Interest Rate/'"
      ]
    },
    {
      "cell_type": "markdown",
      "source": [
        "# ATTRIBUTE INFORMATION: \n",
        "\n",
        "1. ID : Identifiers of each customer \n",
        "2. Amount_Requested : Loan Requirement of customer\n",
        "3. Amount_Funded_By_Investors : The lon amount given by bank/investor\n",
        "4. Interest_Rate : Dependent variable, the interest charged by bank.\n",
        "5. Loan Length : The time duration of loan\n",
        "6. Debt_To_Income_Ratio : Ratio of debt to income of customer\n",
        "7. State : State of customer \n",
        "8. Home_Ownership : Ownership of the house\n",
        "9. Monthly_Income : Monthly Income of customer \n",
        "10. FICO_Range : Banking term\n",
        "11. Open_CREDIT_Lines = Banking term \n",
        "12. Revolving_CREDIT_Balance : Banking term\n",
        "13. Inquiries_In_Last_6_Months : Number of inquiries by customer\n",
        "14. Employement_Length : Length of the employement\n"
      ],
      "metadata": {
        "id": "oFrIwO4Z6m8q"
      }
    },
    {
      "cell_type": "code",
      "source": [
        "# Lets import the required libraries \n",
        "import pandas as pd\n",
        "import numpy as np\n",
        "import matplotlib.pyplot as plt\n",
        "import seaborn as sns\n",
        "import warnings\n",
        "warnings.filterwarnings('ignore')\n",
        "# We will import more libraries further as need them"
      ],
      "metadata": {
        "id": "vUzOaant6Me3"
      },
      "execution_count": 2,
      "outputs": []
    },
    {
      "cell_type": "markdown",
      "source": [
        "# Reading the data"
      ],
      "metadata": {
        "id": "KhsLwo6G7H7i"
      }
    },
    {
      "cell_type": "code",
      "source": [
        "# Lets create a dataframe named 'data' which contains our LoanData\n",
        "data = pd.read_csv('LoanData.csv')"
      ],
      "metadata": {
        "id": "bAC5lwbK7Arn"
      },
      "execution_count": 3,
      "outputs": []
    },
    {
      "cell_type": "code",
      "source": [
        "# Creating a shallow copy of our original data to further work on\n",
        "df = data.copy()"
      ],
      "metadata": {
        "id": "z91Qz3Kx7SMx"
      },
      "execution_count": 4,
      "outputs": []
    },
    {
      "cell_type": "markdown",
      "source": [
        "# Understanding the data"
      ],
      "metadata": {
        "id": "UTtw1w_D7bf7"
      }
    },
    {
      "cell_type": "code",
      "source": [
        "# Lets look at the number of rows and number of columns in our data\n",
        "df.shape"
      ],
      "metadata": {
        "colab": {
          "base_uri": "https://localhost:8080/"
        },
        "id": "3gq_gDcg7YX7",
        "outputId": "e29fae3f-24c8-4ec5-89c9-6d54e58f1a9c"
      },
      "execution_count": 5,
      "outputs": [
        {
          "output_type": "execute_result",
          "data": {
            "text/plain": [
              "(2500, 15)"
            ]
          },
          "metadata": {},
          "execution_count": 5
        }
      ]
    },
    {
      "cell_type": "code",
      "source": [
        "# Looking at the first 5 rows of our data\n",
        "df.head()"
      ],
      "metadata": {
        "colab": {
          "base_uri": "https://localhost:8080/",
          "height": 0
        },
        "id": "dxLlYfkd7n6W",
        "outputId": "ac34cf3c-be0d-4304-e29e-3dd8c45aab3d"
      },
      "execution_count": 6,
      "outputs": [
        {
          "output_type": "execute_result",
          "data": {
            "text/html": [
              "\n",
              "  <div id=\"df-20a2ae8b-852d-408c-a6aa-23d33ee312a6\">\n",
              "    <div class=\"colab-df-container\">\n",
              "      <div>\n",
              "<style scoped>\n",
              "    .dataframe tbody tr th:only-of-type {\n",
              "        vertical-align: middle;\n",
              "    }\n",
              "\n",
              "    .dataframe tbody tr th {\n",
              "        vertical-align: top;\n",
              "    }\n",
              "\n",
              "    .dataframe thead th {\n",
              "        text-align: right;\n",
              "    }\n",
              "</style>\n",
              "<table border=\"1\" class=\"dataframe\">\n",
              "  <thead>\n",
              "    <tr style=\"text-align: right;\">\n",
              "      <th></th>\n",
              "      <th>ID</th>\n",
              "      <th>Amount.Requested</th>\n",
              "      <th>Amount.Funded.By.Investors</th>\n",
              "      <th>Interest.Rate</th>\n",
              "      <th>Loan.Length</th>\n",
              "      <th>Loan.Purpose</th>\n",
              "      <th>Debt.To.Income.Ratio</th>\n",
              "      <th>State</th>\n",
              "      <th>Home.Ownership</th>\n",
              "      <th>Monthly.Income</th>\n",
              "      <th>FICO.Range</th>\n",
              "      <th>Open.CREDIT.Lines</th>\n",
              "      <th>Revolving.CREDIT.Balance</th>\n",
              "      <th>Inquiries.in.the.Last.6.Months</th>\n",
              "      <th>Employment.Length</th>\n",
              "    </tr>\n",
              "  </thead>\n",
              "  <tbody>\n",
              "    <tr>\n",
              "      <th>0</th>\n",
              "      <td>81174.0</td>\n",
              "      <td>20000</td>\n",
              "      <td>20000</td>\n",
              "      <td>8.90%</td>\n",
              "      <td>36 months</td>\n",
              "      <td>debt_consolidation</td>\n",
              "      <td>14.90%</td>\n",
              "      <td>SC</td>\n",
              "      <td>MORTGAGE</td>\n",
              "      <td>6541.67</td>\n",
              "      <td>735-739</td>\n",
              "      <td>14</td>\n",
              "      <td>14272</td>\n",
              "      <td>2.0</td>\n",
              "      <td>&lt; 1 year</td>\n",
              "    </tr>\n",
              "    <tr>\n",
              "      <th>1</th>\n",
              "      <td>99592.0</td>\n",
              "      <td>19200</td>\n",
              "      <td>19200</td>\n",
              "      <td>12.12%</td>\n",
              "      <td>36 months</td>\n",
              "      <td>debt_consolidation</td>\n",
              "      <td>28.36%</td>\n",
              "      <td>TX</td>\n",
              "      <td>MORTGAGE</td>\n",
              "      <td>4583.33</td>\n",
              "      <td>715-719</td>\n",
              "      <td>12</td>\n",
              "      <td>11140</td>\n",
              "      <td>1.0</td>\n",
              "      <td>2 years</td>\n",
              "    </tr>\n",
              "    <tr>\n",
              "      <th>2</th>\n",
              "      <td>80059.0</td>\n",
              "      <td>35000</td>\n",
              "      <td>35000</td>\n",
              "      <td>21.98%</td>\n",
              "      <td>60 months</td>\n",
              "      <td>debt_consolidation</td>\n",
              "      <td>23.81%</td>\n",
              "      <td>CA</td>\n",
              "      <td>MORTGAGE</td>\n",
              "      <td>11500.00</td>\n",
              "      <td>690-694</td>\n",
              "      <td>14</td>\n",
              "      <td>21977</td>\n",
              "      <td>1.0</td>\n",
              "      <td>2 years</td>\n",
              "    </tr>\n",
              "    <tr>\n",
              "      <th>3</th>\n",
              "      <td>15825.0</td>\n",
              "      <td>10000</td>\n",
              "      <td>9975</td>\n",
              "      <td>9.99%</td>\n",
              "      <td>36 months</td>\n",
              "      <td>debt_consolidation</td>\n",
              "      <td>14.30%</td>\n",
              "      <td>KS</td>\n",
              "      <td>MORTGAGE</td>\n",
              "      <td>3833.33</td>\n",
              "      <td>695-699</td>\n",
              "      <td>10</td>\n",
              "      <td>9346</td>\n",
              "      <td>0.0</td>\n",
              "      <td>5 years</td>\n",
              "    </tr>\n",
              "    <tr>\n",
              "      <th>4</th>\n",
              "      <td>33182.0</td>\n",
              "      <td>12000</td>\n",
              "      <td>12000</td>\n",
              "      <td>11.71%</td>\n",
              "      <td>36 months</td>\n",
              "      <td>credit_card</td>\n",
              "      <td>18.78%</td>\n",
              "      <td>NJ</td>\n",
              "      <td>RENT</td>\n",
              "      <td>3195.00</td>\n",
              "      <td>695-699</td>\n",
              "      <td>11</td>\n",
              "      <td>14469</td>\n",
              "      <td>0.0</td>\n",
              "      <td>9 years</td>\n",
              "    </tr>\n",
              "  </tbody>\n",
              "</table>\n",
              "</div>\n",
              "      <button class=\"colab-df-convert\" onclick=\"convertToInteractive('df-20a2ae8b-852d-408c-a6aa-23d33ee312a6')\"\n",
              "              title=\"Convert this dataframe to an interactive table.\"\n",
              "              style=\"display:none;\">\n",
              "        \n",
              "  <svg xmlns=\"http://www.w3.org/2000/svg\" height=\"24px\"viewBox=\"0 0 24 24\"\n",
              "       width=\"24px\">\n",
              "    <path d=\"M0 0h24v24H0V0z\" fill=\"none\"/>\n",
              "    <path d=\"M18.56 5.44l.94 2.06.94-2.06 2.06-.94-2.06-.94-.94-2.06-.94 2.06-2.06.94zm-11 1L8.5 8.5l.94-2.06 2.06-.94-2.06-.94L8.5 2.5l-.94 2.06-2.06.94zm10 10l.94 2.06.94-2.06 2.06-.94-2.06-.94-.94-2.06-.94 2.06-2.06.94z\"/><path d=\"M17.41 7.96l-1.37-1.37c-.4-.4-.92-.59-1.43-.59-.52 0-1.04.2-1.43.59L10.3 9.45l-7.72 7.72c-.78.78-.78 2.05 0 2.83L4 21.41c.39.39.9.59 1.41.59.51 0 1.02-.2 1.41-.59l7.78-7.78 2.81-2.81c.8-.78.8-2.07 0-2.86zM5.41 20L4 18.59l7.72-7.72 1.47 1.35L5.41 20z\"/>\n",
              "  </svg>\n",
              "      </button>\n",
              "      \n",
              "  <style>\n",
              "    .colab-df-container {\n",
              "      display:flex;\n",
              "      flex-wrap:wrap;\n",
              "      gap: 12px;\n",
              "    }\n",
              "\n",
              "    .colab-df-convert {\n",
              "      background-color: #E8F0FE;\n",
              "      border: none;\n",
              "      border-radius: 50%;\n",
              "      cursor: pointer;\n",
              "      display: none;\n",
              "      fill: #1967D2;\n",
              "      height: 32px;\n",
              "      padding: 0 0 0 0;\n",
              "      width: 32px;\n",
              "    }\n",
              "\n",
              "    .colab-df-convert:hover {\n",
              "      background-color: #E2EBFA;\n",
              "      box-shadow: 0px 1px 2px rgba(60, 64, 67, 0.3), 0px 1px 3px 1px rgba(60, 64, 67, 0.15);\n",
              "      fill: #174EA6;\n",
              "    }\n",
              "\n",
              "    [theme=dark] .colab-df-convert {\n",
              "      background-color: #3B4455;\n",
              "      fill: #D2E3FC;\n",
              "    }\n",
              "\n",
              "    [theme=dark] .colab-df-convert:hover {\n",
              "      background-color: #434B5C;\n",
              "      box-shadow: 0px 1px 3px 1px rgba(0, 0, 0, 0.15);\n",
              "      filter: drop-shadow(0px 1px 2px rgba(0, 0, 0, 0.3));\n",
              "      fill: #FFFFFF;\n",
              "    }\n",
              "  </style>\n",
              "\n",
              "      <script>\n",
              "        const buttonEl =\n",
              "          document.querySelector('#df-20a2ae8b-852d-408c-a6aa-23d33ee312a6 button.colab-df-convert');\n",
              "        buttonEl.style.display =\n",
              "          google.colab.kernel.accessAllowed ? 'block' : 'none';\n",
              "\n",
              "        async function convertToInteractive(key) {\n",
              "          const element = document.querySelector('#df-20a2ae8b-852d-408c-a6aa-23d33ee312a6');\n",
              "          const dataTable =\n",
              "            await google.colab.kernel.invokeFunction('convertToInteractive',\n",
              "                                                     [key], {});\n",
              "          if (!dataTable) return;\n",
              "\n",
              "          const docLinkHtml = 'Like what you see? Visit the ' +\n",
              "            '<a target=\"_blank\" href=https://colab.research.google.com/notebooks/data_table.ipynb>data table notebook</a>'\n",
              "            + ' to learn more about interactive tables.';\n",
              "          element.innerHTML = '';\n",
              "          dataTable['output_type'] = 'display_data';\n",
              "          await google.colab.output.renderOutput(dataTable, element);\n",
              "          const docLink = document.createElement('div');\n",
              "          docLink.innerHTML = docLinkHtml;\n",
              "          element.appendChild(docLink);\n",
              "        }\n",
              "      </script>\n",
              "    </div>\n",
              "  </div>\n",
              "  "
            ],
            "text/plain": [
              "        ID Amount.Requested  ... Inquiries.in.the.Last.6.Months Employment.Length\n",
              "0  81174.0            20000  ...                            2.0          < 1 year\n",
              "1  99592.0            19200  ...                            1.0           2 years\n",
              "2  80059.0            35000  ...                            1.0           2 years\n",
              "3  15825.0            10000  ...                            0.0           5 years\n",
              "4  33182.0            12000  ...                            0.0           9 years\n",
              "\n",
              "[5 rows x 15 columns]"
            ]
          },
          "metadata": {},
          "execution_count": 6
        }
      ]
    },
    {
      "cell_type": "code",
      "source": [
        "# Looking at the last 5 rows of our data\n",
        "df.tail()"
      ],
      "metadata": {
        "colab": {
          "base_uri": "https://localhost:8080/",
          "height": 0
        },
        "id": "tbhLGW_I7t4h",
        "outputId": "6535d409-5c31-4042-ae72-e11dffae257e"
      },
      "execution_count": 7,
      "outputs": [
        {
          "output_type": "execute_result",
          "data": {
            "text/html": [
              "\n",
              "  <div id=\"df-1dcd1e64-5b7c-4796-9bc7-8cbcd57904bf\">\n",
              "    <div class=\"colab-df-container\">\n",
              "      <div>\n",
              "<style scoped>\n",
              "    .dataframe tbody tr th:only-of-type {\n",
              "        vertical-align: middle;\n",
              "    }\n",
              "\n",
              "    .dataframe tbody tr th {\n",
              "        vertical-align: top;\n",
              "    }\n",
              "\n",
              "    .dataframe thead th {\n",
              "        text-align: right;\n",
              "    }\n",
              "</style>\n",
              "<table border=\"1\" class=\"dataframe\">\n",
              "  <thead>\n",
              "    <tr style=\"text-align: right;\">\n",
              "      <th></th>\n",
              "      <th>ID</th>\n",
              "      <th>Amount.Requested</th>\n",
              "      <th>Amount.Funded.By.Investors</th>\n",
              "      <th>Interest.Rate</th>\n",
              "      <th>Loan.Length</th>\n",
              "      <th>Loan.Purpose</th>\n",
              "      <th>Debt.To.Income.Ratio</th>\n",
              "      <th>State</th>\n",
              "      <th>Home.Ownership</th>\n",
              "      <th>Monthly.Income</th>\n",
              "      <th>FICO.Range</th>\n",
              "      <th>Open.CREDIT.Lines</th>\n",
              "      <th>Revolving.CREDIT.Balance</th>\n",
              "      <th>Inquiries.in.the.Last.6.Months</th>\n",
              "      <th>Employment.Length</th>\n",
              "    </tr>\n",
              "  </thead>\n",
              "  <tbody>\n",
              "    <tr>\n",
              "      <th>2495</th>\n",
              "      <td>23735.0</td>\n",
              "      <td>30000</td>\n",
              "      <td>29950</td>\n",
              "      <td>16.77%</td>\n",
              "      <td>60 months</td>\n",
              "      <td>debt_consolidation</td>\n",
              "      <td>19.23%</td>\n",
              "      <td>NY</td>\n",
              "      <td>MORTGAGE</td>\n",
              "      <td>9250.00</td>\n",
              "      <td>705-709</td>\n",
              "      <td>15</td>\n",
              "      <td>45880</td>\n",
              "      <td>1.0</td>\n",
              "      <td>8 years</td>\n",
              "    </tr>\n",
              "    <tr>\n",
              "      <th>2496</th>\n",
              "      <td>65882.0</td>\n",
              "      <td>16000</td>\n",
              "      <td>16000</td>\n",
              "      <td>14.09%</td>\n",
              "      <td>60 months</td>\n",
              "      <td>home_improvement</td>\n",
              "      <td>21.54%</td>\n",
              "      <td>MD</td>\n",
              "      <td>OWN</td>\n",
              "      <td>8903.25</td>\n",
              "      <td>740-744</td>\n",
              "      <td>18</td>\n",
              "      <td>18898</td>\n",
              "      <td>1.0</td>\n",
              "      <td>10+ years</td>\n",
              "    </tr>\n",
              "    <tr>\n",
              "      <th>2497</th>\n",
              "      <td>55610.0</td>\n",
              "      <td>10000</td>\n",
              "      <td>10000</td>\n",
              "      <td>13.99%</td>\n",
              "      <td>36 months</td>\n",
              "      <td>debt_consolidation</td>\n",
              "      <td>4.89%</td>\n",
              "      <td>PA</td>\n",
              "      <td>MORTGAGE</td>\n",
              "      <td>2166.67</td>\n",
              "      <td>680-684</td>\n",
              "      <td>4</td>\n",
              "      <td>4544</td>\n",
              "      <td>0.0</td>\n",
              "      <td>10+ years</td>\n",
              "    </tr>\n",
              "    <tr>\n",
              "      <th>2498</th>\n",
              "      <td>38576.0</td>\n",
              "      <td>6000</td>\n",
              "      <td>6000</td>\n",
              "      <td>12.42%</td>\n",
              "      <td>36 months</td>\n",
              "      <td>major_purchase</td>\n",
              "      <td>16.66%</td>\n",
              "      <td>NJ</td>\n",
              "      <td>RENT</td>\n",
              "      <td>3500.00</td>\n",
              "      <td>675-679</td>\n",
              "      <td>8</td>\n",
              "      <td>.</td>\n",
              "      <td>0.0</td>\n",
              "      <td>5 years</td>\n",
              "    </tr>\n",
              "    <tr>\n",
              "      <th>2499</th>\n",
              "      <td>3116.0</td>\n",
              "      <td>9000</td>\n",
              "      <td>5242.75</td>\n",
              "      <td>13.79%</td>\n",
              "      <td>36 months</td>\n",
              "      <td>debt_consolidation</td>\n",
              "      <td>6.76%</td>\n",
              "      <td>NY</td>\n",
              "      <td>RENT</td>\n",
              "      <td>3875.00</td>\n",
              "      <td>670-674</td>\n",
              "      <td>7</td>\n",
              "      <td>7589</td>\n",
              "      <td>0.0</td>\n",
              "      <td>10+ years</td>\n",
              "    </tr>\n",
              "  </tbody>\n",
              "</table>\n",
              "</div>\n",
              "      <button class=\"colab-df-convert\" onclick=\"convertToInteractive('df-1dcd1e64-5b7c-4796-9bc7-8cbcd57904bf')\"\n",
              "              title=\"Convert this dataframe to an interactive table.\"\n",
              "              style=\"display:none;\">\n",
              "        \n",
              "  <svg xmlns=\"http://www.w3.org/2000/svg\" height=\"24px\"viewBox=\"0 0 24 24\"\n",
              "       width=\"24px\">\n",
              "    <path d=\"M0 0h24v24H0V0z\" fill=\"none\"/>\n",
              "    <path d=\"M18.56 5.44l.94 2.06.94-2.06 2.06-.94-2.06-.94-.94-2.06-.94 2.06-2.06.94zm-11 1L8.5 8.5l.94-2.06 2.06-.94-2.06-.94L8.5 2.5l-.94 2.06-2.06.94zm10 10l.94 2.06.94-2.06 2.06-.94-2.06-.94-.94-2.06-.94 2.06-2.06.94z\"/><path d=\"M17.41 7.96l-1.37-1.37c-.4-.4-.92-.59-1.43-.59-.52 0-1.04.2-1.43.59L10.3 9.45l-7.72 7.72c-.78.78-.78 2.05 0 2.83L4 21.41c.39.39.9.59 1.41.59.51 0 1.02-.2 1.41-.59l7.78-7.78 2.81-2.81c.8-.78.8-2.07 0-2.86zM5.41 20L4 18.59l7.72-7.72 1.47 1.35L5.41 20z\"/>\n",
              "  </svg>\n",
              "      </button>\n",
              "      \n",
              "  <style>\n",
              "    .colab-df-container {\n",
              "      display:flex;\n",
              "      flex-wrap:wrap;\n",
              "      gap: 12px;\n",
              "    }\n",
              "\n",
              "    .colab-df-convert {\n",
              "      background-color: #E8F0FE;\n",
              "      border: none;\n",
              "      border-radius: 50%;\n",
              "      cursor: pointer;\n",
              "      display: none;\n",
              "      fill: #1967D2;\n",
              "      height: 32px;\n",
              "      padding: 0 0 0 0;\n",
              "      width: 32px;\n",
              "    }\n",
              "\n",
              "    .colab-df-convert:hover {\n",
              "      background-color: #E2EBFA;\n",
              "      box-shadow: 0px 1px 2px rgba(60, 64, 67, 0.3), 0px 1px 3px 1px rgba(60, 64, 67, 0.15);\n",
              "      fill: #174EA6;\n",
              "    }\n",
              "\n",
              "    [theme=dark] .colab-df-convert {\n",
              "      background-color: #3B4455;\n",
              "      fill: #D2E3FC;\n",
              "    }\n",
              "\n",
              "    [theme=dark] .colab-df-convert:hover {\n",
              "      background-color: #434B5C;\n",
              "      box-shadow: 0px 1px 3px 1px rgba(0, 0, 0, 0.15);\n",
              "      filter: drop-shadow(0px 1px 2px rgba(0, 0, 0, 0.3));\n",
              "      fill: #FFFFFF;\n",
              "    }\n",
              "  </style>\n",
              "\n",
              "      <script>\n",
              "        const buttonEl =\n",
              "          document.querySelector('#df-1dcd1e64-5b7c-4796-9bc7-8cbcd57904bf button.colab-df-convert');\n",
              "        buttonEl.style.display =\n",
              "          google.colab.kernel.accessAllowed ? 'block' : 'none';\n",
              "\n",
              "        async function convertToInteractive(key) {\n",
              "          const element = document.querySelector('#df-1dcd1e64-5b7c-4796-9bc7-8cbcd57904bf');\n",
              "          const dataTable =\n",
              "            await google.colab.kernel.invokeFunction('convertToInteractive',\n",
              "                                                     [key], {});\n",
              "          if (!dataTable) return;\n",
              "\n",
              "          const docLinkHtml = 'Like what you see? Visit the ' +\n",
              "            '<a target=\"_blank\" href=https://colab.research.google.com/notebooks/data_table.ipynb>data table notebook</a>'\n",
              "            + ' to learn more about interactive tables.';\n",
              "          element.innerHTML = '';\n",
              "          dataTable['output_type'] = 'display_data';\n",
              "          await google.colab.output.renderOutput(dataTable, element);\n",
              "          const docLink = document.createElement('div');\n",
              "          docLink.innerHTML = docLinkHtml;\n",
              "          element.appendChild(docLink);\n",
              "        }\n",
              "      </script>\n",
              "    </div>\n",
              "  </div>\n",
              "  "
            ],
            "text/plain": [
              "           ID  ... Employment.Length\n",
              "2495  23735.0  ...           8 years\n",
              "2496  65882.0  ...         10+ years\n",
              "2497  55610.0  ...         10+ years\n",
              "2498  38576.0  ...           5 years\n",
              "2499   3116.0  ...         10+ years\n",
              "\n",
              "[5 rows x 15 columns]"
            ]
          },
          "metadata": {},
          "execution_count": 7
        }
      ]
    },
    {
      "cell_type": "code",
      "source": [
        "df.info()"
      ],
      "metadata": {
        "colab": {
          "base_uri": "https://localhost:8080/"
        },
        "id": "8do0ik_A7x8_",
        "outputId": "9d2e6c61-a26f-4140-e220-4ba19f41906f"
      },
      "execution_count": 8,
      "outputs": [
        {
          "output_type": "stream",
          "name": "stdout",
          "text": [
            "<class 'pandas.core.frame.DataFrame'>\n",
            "RangeIndex: 2500 entries, 0 to 2499\n",
            "Data columns (total 15 columns):\n",
            " #   Column                          Non-Null Count  Dtype  \n",
            "---  ------                          --------------  -----  \n",
            " 0   ID                              2499 non-null   float64\n",
            " 1   Amount.Requested                2499 non-null   object \n",
            " 2   Amount.Funded.By.Investors      2499 non-null   object \n",
            " 3   Interest.Rate                   2500 non-null   object \n",
            " 4   Loan.Length                     2499 non-null   object \n",
            " 5   Loan.Purpose                    2499 non-null   object \n",
            " 6   Debt.To.Income.Ratio            2499 non-null   object \n",
            " 7   State                           2499 non-null   object \n",
            " 8   Home.Ownership                  2499 non-null   object \n",
            " 9   Monthly.Income                  2497 non-null   float64\n",
            " 10  FICO.Range                      2500 non-null   object \n",
            " 11  Open.CREDIT.Lines               2496 non-null   object \n",
            " 12  Revolving.CREDIT.Balance        2497 non-null   object \n",
            " 13  Inquiries.in.the.Last.6.Months  2497 non-null   float64\n",
            " 14  Employment.Length               2422 non-null   object \n",
            "dtypes: float64(3), object(12)\n",
            "memory usage: 293.1+ KB\n"
          ]
        }
      ]
    },
    {
      "cell_type": "code",
      "source": [
        "# Looking at the column names in our data\n",
        "df.columns"
      ],
      "metadata": {
        "colab": {
          "base_uri": "https://localhost:8080/"
        },
        "id": "li9_KzqO8GQe",
        "outputId": "ec3214f5-c719-401b-f8da-c8ebcda8848f"
      },
      "execution_count": 9,
      "outputs": [
        {
          "output_type": "execute_result",
          "data": {
            "text/plain": [
              "Index(['ID', 'Amount.Requested', 'Amount.Funded.By.Investors', 'Interest.Rate',\n",
              "       'Loan.Length', 'Loan.Purpose', 'Debt.To.Income.Ratio', 'State',\n",
              "       'Home.Ownership', 'Monthly.Income', 'FICO.Range', 'Open.CREDIT.Lines',\n",
              "       'Revolving.CREDIT.Balance', 'Inquiries.in.the.Last.6.Months',\n",
              "       'Employment.Length'],\n",
              "      dtype='object')"
            ]
          },
          "metadata": {},
          "execution_count": 9
        }
      ]
    },
    {
      "cell_type": "code",
      "source": [
        "# As seen our columns contain '.' which is also fine but\n",
        "# For better understanding we will replace the '.' in column names with '_'.\n",
        "df.columns = ['ID', 'Amount_Requested', 'Amount_Funded_By_Investors', 'Interest_Rate',\n",
        "      'Loan_Length', 'Loan_Purpose', 'Debt_To_Income_Ratio', 'State',\n",
        "       'Home_Ownership', 'Monthly_Income', 'FICO_Range', 'Open_CREDIT_Lines',\n",
        "       'Revolving_CREDIT_Balance', 'Inquiries_in_the_Last_6_Months',\n",
        "       'Employment_Length']\n",
        "     "
      ],
      "metadata": {
        "id": "9os36CQa8OEL"
      },
      "execution_count": 10,
      "outputs": []
    },
    {
      "cell_type": "code",
      "source": [
        "# Checking for null values in our dataset\n",
        "df.isnull().sum()"
      ],
      "metadata": {
        "colab": {
          "base_uri": "https://localhost:8080/"
        },
        "id": "EFNHX_-Y8p4X",
        "outputId": "068ef1df-ab2a-4846-db8e-9ddc133c0bc8"
      },
      "execution_count": 11,
      "outputs": [
        {
          "output_type": "execute_result",
          "data": {
            "text/plain": [
              "ID                                 1\n",
              "Amount_Requested                   1\n",
              "Amount_Funded_By_Investors         1\n",
              "Interest_Rate                      0\n",
              "Loan_Length                        1\n",
              "Loan_Purpose                       1\n",
              "Debt_To_Income_Ratio               1\n",
              "State                              1\n",
              "Home_Ownership                     1\n",
              "Monthly_Income                     3\n",
              "FICO_Range                         0\n",
              "Open_CREDIT_Lines                  4\n",
              "Revolving_CREDIT_Balance           3\n",
              "Inquiries_in_the_Last_6_Months     3\n",
              "Employment_Length                 78\n",
              "dtype: int64"
            ]
          },
          "metadata": {},
          "execution_count": 11
        }
      ]
    },
    {
      "cell_type": "markdown",
      "source": [
        "## Observations: \n",
        "1. Our data contains 2500 rows and 15 columns.\n",
        "2. There are some missing values in our data which we will fill further\n",
        "3. There are incorrect column datatypes in our data which needs to be fixed\n",
        "4. There are incorrect values ('.') in some columns which we will remove and fix that."
      ],
      "metadata": {
        "id": "UeMFHGPi8i-c"
      }
    },
    {
      "cell_type": "markdown",
      "source": [
        "# Cleaning the Data"
      ],
      "metadata": {
        "id": "aGP6rqy79H_3"
      }
    },
    {
      "cell_type": "code",
      "source": [
        "df.info()"
      ],
      "metadata": {
        "colab": {
          "base_uri": "https://localhost:8080/"
        },
        "id": "boUVfh0E8glq",
        "outputId": "11206f83-4abd-4397-c955-2d79841be1b6"
      },
      "execution_count": 12,
      "outputs": [
        {
          "output_type": "stream",
          "name": "stdout",
          "text": [
            "<class 'pandas.core.frame.DataFrame'>\n",
            "RangeIndex: 2500 entries, 0 to 2499\n",
            "Data columns (total 15 columns):\n",
            " #   Column                          Non-Null Count  Dtype  \n",
            "---  ------                          --------------  -----  \n",
            " 0   ID                              2499 non-null   float64\n",
            " 1   Amount_Requested                2499 non-null   object \n",
            " 2   Amount_Funded_By_Investors      2499 non-null   object \n",
            " 3   Interest_Rate                   2500 non-null   object \n",
            " 4   Loan_Length                     2499 non-null   object \n",
            " 5   Loan_Purpose                    2499 non-null   object \n",
            " 6   Debt_To_Income_Ratio            2499 non-null   object \n",
            " 7   State                           2499 non-null   object \n",
            " 8   Home_Ownership                  2499 non-null   object \n",
            " 9   Monthly_Income                  2497 non-null   float64\n",
            " 10  FICO_Range                      2500 non-null   object \n",
            " 11  Open_CREDIT_Lines               2496 non-null   object \n",
            " 12  Revolving_CREDIT_Balance        2497 non-null   object \n",
            " 13  Inquiries_in_the_Last_6_Months  2497 non-null   float64\n",
            " 14  Employment_Length               2422 non-null   object \n",
            "dtypes: float64(3), object(12)\n",
            "memory usage: 293.1+ KB\n"
          ]
        }
      ]
    },
    {
      "cell_type": "code",
      "source": [
        "df.head(10)"
      ],
      "metadata": {
        "colab": {
          "base_uri": "https://localhost:8080/",
          "height": 427
        },
        "id": "EOzvG3099O0L",
        "outputId": "23d65661-950c-4f00-88df-3e2986a25960"
      },
      "execution_count": 13,
      "outputs": [
        {
          "output_type": "execute_result",
          "data": {
            "text/html": [
              "\n",
              "  <div id=\"df-6b522880-5617-4fb6-8738-7c1c936e5d2c\">\n",
              "    <div class=\"colab-df-container\">\n",
              "      <div>\n",
              "<style scoped>\n",
              "    .dataframe tbody tr th:only-of-type {\n",
              "        vertical-align: middle;\n",
              "    }\n",
              "\n",
              "    .dataframe tbody tr th {\n",
              "        vertical-align: top;\n",
              "    }\n",
              "\n",
              "    .dataframe thead th {\n",
              "        text-align: right;\n",
              "    }\n",
              "</style>\n",
              "<table border=\"1\" class=\"dataframe\">\n",
              "  <thead>\n",
              "    <tr style=\"text-align: right;\">\n",
              "      <th></th>\n",
              "      <th>ID</th>\n",
              "      <th>Amount_Requested</th>\n",
              "      <th>Amount_Funded_By_Investors</th>\n",
              "      <th>Interest_Rate</th>\n",
              "      <th>Loan_Length</th>\n",
              "      <th>Loan_Purpose</th>\n",
              "      <th>Debt_To_Income_Ratio</th>\n",
              "      <th>State</th>\n",
              "      <th>Home_Ownership</th>\n",
              "      <th>Monthly_Income</th>\n",
              "      <th>FICO_Range</th>\n",
              "      <th>Open_CREDIT_Lines</th>\n",
              "      <th>Revolving_CREDIT_Balance</th>\n",
              "      <th>Inquiries_in_the_Last_6_Months</th>\n",
              "      <th>Employment_Length</th>\n",
              "    </tr>\n",
              "  </thead>\n",
              "  <tbody>\n",
              "    <tr>\n",
              "      <th>0</th>\n",
              "      <td>81174.0</td>\n",
              "      <td>20000</td>\n",
              "      <td>20000</td>\n",
              "      <td>8.90%</td>\n",
              "      <td>36 months</td>\n",
              "      <td>debt_consolidation</td>\n",
              "      <td>14.90%</td>\n",
              "      <td>SC</td>\n",
              "      <td>MORTGAGE</td>\n",
              "      <td>6541.67</td>\n",
              "      <td>735-739</td>\n",
              "      <td>14</td>\n",
              "      <td>14272</td>\n",
              "      <td>2.0</td>\n",
              "      <td>&lt; 1 year</td>\n",
              "    </tr>\n",
              "    <tr>\n",
              "      <th>1</th>\n",
              "      <td>99592.0</td>\n",
              "      <td>19200</td>\n",
              "      <td>19200</td>\n",
              "      <td>12.12%</td>\n",
              "      <td>36 months</td>\n",
              "      <td>debt_consolidation</td>\n",
              "      <td>28.36%</td>\n",
              "      <td>TX</td>\n",
              "      <td>MORTGAGE</td>\n",
              "      <td>4583.33</td>\n",
              "      <td>715-719</td>\n",
              "      <td>12</td>\n",
              "      <td>11140</td>\n",
              "      <td>1.0</td>\n",
              "      <td>2 years</td>\n",
              "    </tr>\n",
              "    <tr>\n",
              "      <th>2</th>\n",
              "      <td>80059.0</td>\n",
              "      <td>35000</td>\n",
              "      <td>35000</td>\n",
              "      <td>21.98%</td>\n",
              "      <td>60 months</td>\n",
              "      <td>debt_consolidation</td>\n",
              "      <td>23.81%</td>\n",
              "      <td>CA</td>\n",
              "      <td>MORTGAGE</td>\n",
              "      <td>11500.00</td>\n",
              "      <td>690-694</td>\n",
              "      <td>14</td>\n",
              "      <td>21977</td>\n",
              "      <td>1.0</td>\n",
              "      <td>2 years</td>\n",
              "    </tr>\n",
              "    <tr>\n",
              "      <th>3</th>\n",
              "      <td>15825.0</td>\n",
              "      <td>10000</td>\n",
              "      <td>9975</td>\n",
              "      <td>9.99%</td>\n",
              "      <td>36 months</td>\n",
              "      <td>debt_consolidation</td>\n",
              "      <td>14.30%</td>\n",
              "      <td>KS</td>\n",
              "      <td>MORTGAGE</td>\n",
              "      <td>3833.33</td>\n",
              "      <td>695-699</td>\n",
              "      <td>10</td>\n",
              "      <td>9346</td>\n",
              "      <td>0.0</td>\n",
              "      <td>5 years</td>\n",
              "    </tr>\n",
              "    <tr>\n",
              "      <th>4</th>\n",
              "      <td>33182.0</td>\n",
              "      <td>12000</td>\n",
              "      <td>12000</td>\n",
              "      <td>11.71%</td>\n",
              "      <td>36 months</td>\n",
              "      <td>credit_card</td>\n",
              "      <td>18.78%</td>\n",
              "      <td>NJ</td>\n",
              "      <td>RENT</td>\n",
              "      <td>3195.00</td>\n",
              "      <td>695-699</td>\n",
              "      <td>11</td>\n",
              "      <td>14469</td>\n",
              "      <td>0.0</td>\n",
              "      <td>9 years</td>\n",
              "    </tr>\n",
              "    <tr>\n",
              "      <th>5</th>\n",
              "      <td>62403.0</td>\n",
              "      <td>6000</td>\n",
              "      <td>6000</td>\n",
              "      <td>15.31%</td>\n",
              "      <td>36 months</td>\n",
              "      <td>other</td>\n",
              "      <td>20.05%</td>\n",
              "      <td>CT</td>\n",
              "      <td>OWN</td>\n",
              "      <td>4891.67</td>\n",
              "      <td>670-674</td>\n",
              "      <td>17</td>\n",
              "      <td>10391</td>\n",
              "      <td>2.0</td>\n",
              "      <td>3 years</td>\n",
              "    </tr>\n",
              "    <tr>\n",
              "      <th>6</th>\n",
              "      <td>48808.0</td>\n",
              "      <td>10000</td>\n",
              "      <td>10000</td>\n",
              "      <td>7.90%</td>\n",
              "      <td>36 months</td>\n",
              "      <td>debt_consolidation</td>\n",
              "      <td>26.09%</td>\n",
              "      <td>MA</td>\n",
              "      <td>RENT</td>\n",
              "      <td>2916.67</td>\n",
              "      <td>720-724</td>\n",
              "      <td>10</td>\n",
              "      <td>15957</td>\n",
              "      <td>0.0</td>\n",
              "      <td>10+ years</td>\n",
              "    </tr>\n",
              "    <tr>\n",
              "      <th>7</th>\n",
              "      <td>22090.0</td>\n",
              "      <td>33500</td>\n",
              "      <td>33450</td>\n",
              "      <td>17.14%</td>\n",
              "      <td>60 months</td>\n",
              "      <td>credit_card</td>\n",
              "      <td>14.70%</td>\n",
              "      <td>LA</td>\n",
              "      <td>MORTGAGE</td>\n",
              "      <td>13863.42</td>\n",
              "      <td>705-709</td>\n",
              "      <td>12</td>\n",
              "      <td>27874</td>\n",
              "      <td>0.0</td>\n",
              "      <td>10+ years</td>\n",
              "    </tr>\n",
              "    <tr>\n",
              "      <th>8</th>\n",
              "      <td>76404.0</td>\n",
              "      <td>14675</td>\n",
              "      <td>14675</td>\n",
              "      <td>14.33%</td>\n",
              "      <td>36 months</td>\n",
              "      <td>credit_card</td>\n",
              "      <td>26.92%</td>\n",
              "      <td>CA</td>\n",
              "      <td>RENT</td>\n",
              "      <td>3150.00</td>\n",
              "      <td>685-689</td>\n",
              "      <td>9</td>\n",
              "      <td>7246</td>\n",
              "      <td>1.0</td>\n",
              "      <td>8 years</td>\n",
              "    </tr>\n",
              "    <tr>\n",
              "      <th>9</th>\n",
              "      <td>15867.0</td>\n",
              "      <td>.</td>\n",
              "      <td>7000</td>\n",
              "      <td>6.91%</td>\n",
              "      <td>36 months</td>\n",
              "      <td>credit_card</td>\n",
              "      <td>7.10%</td>\n",
              "      <td>CA</td>\n",
              "      <td>RENT</td>\n",
              "      <td>5000.00</td>\n",
              "      <td>715-719</td>\n",
              "      <td>8</td>\n",
              "      <td>7612</td>\n",
              "      <td>0.0</td>\n",
              "      <td>3 years</td>\n",
              "    </tr>\n",
              "  </tbody>\n",
              "</table>\n",
              "</div>\n",
              "      <button class=\"colab-df-convert\" onclick=\"convertToInteractive('df-6b522880-5617-4fb6-8738-7c1c936e5d2c')\"\n",
              "              title=\"Convert this dataframe to an interactive table.\"\n",
              "              style=\"display:none;\">\n",
              "        \n",
              "  <svg xmlns=\"http://www.w3.org/2000/svg\" height=\"24px\"viewBox=\"0 0 24 24\"\n",
              "       width=\"24px\">\n",
              "    <path d=\"M0 0h24v24H0V0z\" fill=\"none\"/>\n",
              "    <path d=\"M18.56 5.44l.94 2.06.94-2.06 2.06-.94-2.06-.94-.94-2.06-.94 2.06-2.06.94zm-11 1L8.5 8.5l.94-2.06 2.06-.94-2.06-.94L8.5 2.5l-.94 2.06-2.06.94zm10 10l.94 2.06.94-2.06 2.06-.94-2.06-.94-.94-2.06-.94 2.06-2.06.94z\"/><path d=\"M17.41 7.96l-1.37-1.37c-.4-.4-.92-.59-1.43-.59-.52 0-1.04.2-1.43.59L10.3 9.45l-7.72 7.72c-.78.78-.78 2.05 0 2.83L4 21.41c.39.39.9.59 1.41.59.51 0 1.02-.2 1.41-.59l7.78-7.78 2.81-2.81c.8-.78.8-2.07 0-2.86zM5.41 20L4 18.59l7.72-7.72 1.47 1.35L5.41 20z\"/>\n",
              "  </svg>\n",
              "      </button>\n",
              "      \n",
              "  <style>\n",
              "    .colab-df-container {\n",
              "      display:flex;\n",
              "      flex-wrap:wrap;\n",
              "      gap: 12px;\n",
              "    }\n",
              "\n",
              "    .colab-df-convert {\n",
              "      background-color: #E8F0FE;\n",
              "      border: none;\n",
              "      border-radius: 50%;\n",
              "      cursor: pointer;\n",
              "      display: none;\n",
              "      fill: #1967D2;\n",
              "      height: 32px;\n",
              "      padding: 0 0 0 0;\n",
              "      width: 32px;\n",
              "    }\n",
              "\n",
              "    .colab-df-convert:hover {\n",
              "      background-color: #E2EBFA;\n",
              "      box-shadow: 0px 1px 2px rgba(60, 64, 67, 0.3), 0px 1px 3px 1px rgba(60, 64, 67, 0.15);\n",
              "      fill: #174EA6;\n",
              "    }\n",
              "\n",
              "    [theme=dark] .colab-df-convert {\n",
              "      background-color: #3B4455;\n",
              "      fill: #D2E3FC;\n",
              "    }\n",
              "\n",
              "    [theme=dark] .colab-df-convert:hover {\n",
              "      background-color: #434B5C;\n",
              "      box-shadow: 0px 1px 3px 1px rgba(0, 0, 0, 0.15);\n",
              "      filter: drop-shadow(0px 1px 2px rgba(0, 0, 0, 0.3));\n",
              "      fill: #FFFFFF;\n",
              "    }\n",
              "  </style>\n",
              "\n",
              "      <script>\n",
              "        const buttonEl =\n",
              "          document.querySelector('#df-6b522880-5617-4fb6-8738-7c1c936e5d2c button.colab-df-convert');\n",
              "        buttonEl.style.display =\n",
              "          google.colab.kernel.accessAllowed ? 'block' : 'none';\n",
              "\n",
              "        async function convertToInteractive(key) {\n",
              "          const element = document.querySelector('#df-6b522880-5617-4fb6-8738-7c1c936e5d2c');\n",
              "          const dataTable =\n",
              "            await google.colab.kernel.invokeFunction('convertToInteractive',\n",
              "                                                     [key], {});\n",
              "          if (!dataTable) return;\n",
              "\n",
              "          const docLinkHtml = 'Like what you see? Visit the ' +\n",
              "            '<a target=\"_blank\" href=https://colab.research.google.com/notebooks/data_table.ipynb>data table notebook</a>'\n",
              "            + ' to learn more about interactive tables.';\n",
              "          element.innerHTML = '';\n",
              "          dataTable['output_type'] = 'display_data';\n",
              "          await google.colab.output.renderOutput(dataTable, element);\n",
              "          const docLink = document.createElement('div');\n",
              "          docLink.innerHTML = docLinkHtml;\n",
              "          element.appendChild(docLink);\n",
              "        }\n",
              "      </script>\n",
              "    </div>\n",
              "  </div>\n",
              "  "
            ],
            "text/plain": [
              "        ID Amount_Requested  ... Inquiries_in_the_Last_6_Months Employment_Length\n",
              "0  81174.0            20000  ...                            2.0          < 1 year\n",
              "1  99592.0            19200  ...                            1.0           2 years\n",
              "2  80059.0            35000  ...                            1.0           2 years\n",
              "3  15825.0            10000  ...                            0.0           5 years\n",
              "4  33182.0            12000  ...                            0.0           9 years\n",
              "5  62403.0             6000  ...                            2.0           3 years\n",
              "6  48808.0            10000  ...                            0.0         10+ years\n",
              "7  22090.0            33500  ...                            0.0         10+ years\n",
              "8  76404.0            14675  ...                            1.0           8 years\n",
              "9  15867.0                .  ...                            0.0           3 years\n",
              "\n",
              "[10 rows x 15 columns]"
            ]
          },
          "metadata": {},
          "execution_count": 13
        }
      ]
    },
    {
      "cell_type": "code",
      "source": [
        "# Changing the data type of 'Amount_Requested' column.\n",
        "# As there are '.' in some rows of 'Amount_Requested' so we will replace it with 'nan'.\n",
        "# After replacing we will change the datatype of thr column.\n",
        "df['Amount_Requested'].replace('.',np.nan,inplace=True)\n",
        "df['Amount_Requested'] = df['Amount_Requested'].astype(float)"
      ],
      "metadata": {
        "id": "TMkp6wnN9Pfu"
      },
      "execution_count": 14,
      "outputs": []
    },
    {
      "cell_type": "code",
      "source": [
        "# Similarly replacing '.' with 'np.nan' and changing the data type\n",
        "df['Amount_Funded_By_Investors'].replace('.',np.nan,inplace=True)\n",
        "df['Amount_Funded_By_Investors'] = df['Amount_Funded_By_Investors'].astype(float)"
      ],
      "metadata": {
        "id": "5VwsjnEC9ctu"
      },
      "execution_count": 15,
      "outputs": []
    },
    {
      "cell_type": "code",
      "source": [
        "# Now for interest rate there is '%' which we will remove and then convert it to float\n",
        "df['Interest_Rate'] = df['Interest_Rate'].str.strip('%')\n",
        "\n",
        "df['Interest_Rate'] = df['Interest_Rate'].astype(float)\n",
        "\n",
        "# As our interest rate is in percentage, lets convert it into decimal\n",
        "df['Interest_Rate'] = df['Interest_Rate'] / 100 "
      ],
      "metadata": {
        "id": "SxDcGOPZ-E9e"
      },
      "execution_count": 16,
      "outputs": []
    },
    {
      "cell_type": "code",
      "source": [
        "# Similarly converting 'Loan_Length' column\n",
        "df['Loan_Length'] = df['Loan_Length'].str.strip('months')\n",
        "\n",
        "# As our 'Loan_Length' contains '.' lets fix that\n",
        "df['Loan_Length'] = df['Loan_Length'].replace('.',np.nan)\n",
        "\n",
        "df['Loan_Length'] = df['Loan_Length'].astype(float)\n"
      ],
      "metadata": {
        "id": "jJYb2hrS_frS"
      },
      "execution_count": 17,
      "outputs": []
    },
    {
      "cell_type": "code",
      "source": [
        "# Similarly lets fix 'Debt_To_Income_Ratio' column\n",
        "df['Debt_To_Income_Ratio'] = df['Debt_To_Income_Ratio'].str.strip('%')\n",
        "\n",
        "df['Debt_To_Income_Ratio'] = df['Debt_To_Income_Ratio'].astype(float)\n",
        "\n",
        "df['Debt_To_Income_Ratio'] = df['Debt_To_Income_Ratio']/100"
      ],
      "metadata": {
        "id": "tem7nimJ_8Hq"
      },
      "execution_count": 18,
      "outputs": []
    },
    {
      "cell_type": "code",
      "source": [
        "# For the column 'FICO_Range' as it is range so we will make 2 new columns as FICO_Lower and FICO_Upper which will contain that value\n",
        "df['FICO_Range_Lower'] = df['FICO_Range'].str.split('-',expand=True)[0].astype(float)\n",
        "df['FICO_Range_Upper'] = df['FICO_Range'].str.split('-',expand=True)[1].astype(float)"
      ],
      "metadata": {
        "id": "A6lWl6NAAe7P"
      },
      "execution_count": 19,
      "outputs": []
    },
    {
      "cell_type": "code",
      "source": [
        "# Fixing the 'Open_CREDIT_Lines' column\n",
        "df['Open_CREDIT_Lines'] = df['Open_CREDIT_Lines'].replace('.',np.nan)\n",
        "\n",
        "df['Open_CREDIT_Lines'] = df['Open_CREDIT_Lines'].astype(float)"
      ],
      "metadata": {
        "id": "FcCHPdegBXOV"
      },
      "execution_count": 20,
      "outputs": []
    },
    {
      "cell_type": "code",
      "source": [
        "# Fixing the 'Revolving_CREDIT_Balance' column\n",
        "df['Revolving_CREDIT_Balance'].replace('.',np.nan,inplace=True)\n",
        "\n",
        "df['Revolving_CREDIT_Balance'] = df['Revolving_CREDIT_Balance'].astype(float)"
      ],
      "metadata": {
        "id": "bBSRyYk5CLmV"
      },
      "execution_count": 21,
      "outputs": []
    },
    {
      "cell_type": "code",
      "source": [
        "# 'Employment_Length' column contain of various characters so lets fix by changing < 1 years = 0 and 10+ years = 10\n",
        "df['Employment_Length'] = df['Employment_Length'].replace('< 1 year',0)\n",
        "\n",
        "df['Employment_Length'] = df['Employment_Length'].replace('10+ years',10)\n",
        "\n",
        "df['Employment_Length'] = df['Employment_Length'].str.strip('years')\n",
        "\n",
        "df['Employment_Length'] = df['Employment_Length'].replace('.',np.nan)\n",
        "\n",
        "df['Employment_Length'] = df['Employment_Length'].astype(float)"
      ],
      "metadata": {
        "id": "PEmRSkPdC_J0"
      },
      "execution_count": 22,
      "outputs": []
    },
    {
      "cell_type": "code",
      "source": [
        "# Lets check wether all of our cleaning has been done as we needed or not.\n",
        "df.head()"
      ],
      "metadata": {
        "colab": {
          "base_uri": "https://localhost:8080/",
          "height": 270
        },
        "id": "I-ygI3wDDtK2",
        "outputId": "75d02ddd-b371-4a8c-bcc8-308c9028072b"
      },
      "execution_count": 23,
      "outputs": [
        {
          "output_type": "execute_result",
          "data": {
            "text/html": [
              "\n",
              "  <div id=\"df-1a4665b7-1fc4-44c5-9f6f-27ab7708bc26\">\n",
              "    <div class=\"colab-df-container\">\n",
              "      <div>\n",
              "<style scoped>\n",
              "    .dataframe tbody tr th:only-of-type {\n",
              "        vertical-align: middle;\n",
              "    }\n",
              "\n",
              "    .dataframe tbody tr th {\n",
              "        vertical-align: top;\n",
              "    }\n",
              "\n",
              "    .dataframe thead th {\n",
              "        text-align: right;\n",
              "    }\n",
              "</style>\n",
              "<table border=\"1\" class=\"dataframe\">\n",
              "  <thead>\n",
              "    <tr style=\"text-align: right;\">\n",
              "      <th></th>\n",
              "      <th>ID</th>\n",
              "      <th>Amount_Requested</th>\n",
              "      <th>Amount_Funded_By_Investors</th>\n",
              "      <th>Interest_Rate</th>\n",
              "      <th>Loan_Length</th>\n",
              "      <th>Loan_Purpose</th>\n",
              "      <th>Debt_To_Income_Ratio</th>\n",
              "      <th>State</th>\n",
              "      <th>Home_Ownership</th>\n",
              "      <th>Monthly_Income</th>\n",
              "      <th>FICO_Range</th>\n",
              "      <th>Open_CREDIT_Lines</th>\n",
              "      <th>Revolving_CREDIT_Balance</th>\n",
              "      <th>Inquiries_in_the_Last_6_Months</th>\n",
              "      <th>Employment_Length</th>\n",
              "      <th>FICO_Range_Lower</th>\n",
              "      <th>FICO_Range_Upper</th>\n",
              "    </tr>\n",
              "  </thead>\n",
              "  <tbody>\n",
              "    <tr>\n",
              "      <th>0</th>\n",
              "      <td>81174.0</td>\n",
              "      <td>20000.0</td>\n",
              "      <td>20000.0</td>\n",
              "      <td>0.0890</td>\n",
              "      <td>36.0</td>\n",
              "      <td>debt_consolidation</td>\n",
              "      <td>0.1490</td>\n",
              "      <td>SC</td>\n",
              "      <td>MORTGAGE</td>\n",
              "      <td>6541.67</td>\n",
              "      <td>735-739</td>\n",
              "      <td>14.0</td>\n",
              "      <td>14272.0</td>\n",
              "      <td>2.0</td>\n",
              "      <td>NaN</td>\n",
              "      <td>735.0</td>\n",
              "      <td>739.0</td>\n",
              "    </tr>\n",
              "    <tr>\n",
              "      <th>1</th>\n",
              "      <td>99592.0</td>\n",
              "      <td>19200.0</td>\n",
              "      <td>19200.0</td>\n",
              "      <td>0.1212</td>\n",
              "      <td>36.0</td>\n",
              "      <td>debt_consolidation</td>\n",
              "      <td>0.2836</td>\n",
              "      <td>TX</td>\n",
              "      <td>MORTGAGE</td>\n",
              "      <td>4583.33</td>\n",
              "      <td>715-719</td>\n",
              "      <td>12.0</td>\n",
              "      <td>11140.0</td>\n",
              "      <td>1.0</td>\n",
              "      <td>2.0</td>\n",
              "      <td>715.0</td>\n",
              "      <td>719.0</td>\n",
              "    </tr>\n",
              "    <tr>\n",
              "      <th>2</th>\n",
              "      <td>80059.0</td>\n",
              "      <td>35000.0</td>\n",
              "      <td>35000.0</td>\n",
              "      <td>0.2198</td>\n",
              "      <td>60.0</td>\n",
              "      <td>debt_consolidation</td>\n",
              "      <td>0.2381</td>\n",
              "      <td>CA</td>\n",
              "      <td>MORTGAGE</td>\n",
              "      <td>11500.00</td>\n",
              "      <td>690-694</td>\n",
              "      <td>14.0</td>\n",
              "      <td>21977.0</td>\n",
              "      <td>1.0</td>\n",
              "      <td>2.0</td>\n",
              "      <td>690.0</td>\n",
              "      <td>694.0</td>\n",
              "    </tr>\n",
              "    <tr>\n",
              "      <th>3</th>\n",
              "      <td>15825.0</td>\n",
              "      <td>10000.0</td>\n",
              "      <td>9975.0</td>\n",
              "      <td>0.0999</td>\n",
              "      <td>36.0</td>\n",
              "      <td>debt_consolidation</td>\n",
              "      <td>0.1430</td>\n",
              "      <td>KS</td>\n",
              "      <td>MORTGAGE</td>\n",
              "      <td>3833.33</td>\n",
              "      <td>695-699</td>\n",
              "      <td>10.0</td>\n",
              "      <td>9346.0</td>\n",
              "      <td>0.0</td>\n",
              "      <td>5.0</td>\n",
              "      <td>695.0</td>\n",
              "      <td>699.0</td>\n",
              "    </tr>\n",
              "    <tr>\n",
              "      <th>4</th>\n",
              "      <td>33182.0</td>\n",
              "      <td>12000.0</td>\n",
              "      <td>12000.0</td>\n",
              "      <td>0.1171</td>\n",
              "      <td>36.0</td>\n",
              "      <td>credit_card</td>\n",
              "      <td>0.1878</td>\n",
              "      <td>NJ</td>\n",
              "      <td>RENT</td>\n",
              "      <td>3195.00</td>\n",
              "      <td>695-699</td>\n",
              "      <td>11.0</td>\n",
              "      <td>14469.0</td>\n",
              "      <td>0.0</td>\n",
              "      <td>9.0</td>\n",
              "      <td>695.0</td>\n",
              "      <td>699.0</td>\n",
              "    </tr>\n",
              "  </tbody>\n",
              "</table>\n",
              "</div>\n",
              "      <button class=\"colab-df-convert\" onclick=\"convertToInteractive('df-1a4665b7-1fc4-44c5-9f6f-27ab7708bc26')\"\n",
              "              title=\"Convert this dataframe to an interactive table.\"\n",
              "              style=\"display:none;\">\n",
              "        \n",
              "  <svg xmlns=\"http://www.w3.org/2000/svg\" height=\"24px\"viewBox=\"0 0 24 24\"\n",
              "       width=\"24px\">\n",
              "    <path d=\"M0 0h24v24H0V0z\" fill=\"none\"/>\n",
              "    <path d=\"M18.56 5.44l.94 2.06.94-2.06 2.06-.94-2.06-.94-.94-2.06-.94 2.06-2.06.94zm-11 1L8.5 8.5l.94-2.06 2.06-.94-2.06-.94L8.5 2.5l-.94 2.06-2.06.94zm10 10l.94 2.06.94-2.06 2.06-.94-2.06-.94-.94-2.06-.94 2.06-2.06.94z\"/><path d=\"M17.41 7.96l-1.37-1.37c-.4-.4-.92-.59-1.43-.59-.52 0-1.04.2-1.43.59L10.3 9.45l-7.72 7.72c-.78.78-.78 2.05 0 2.83L4 21.41c.39.39.9.59 1.41.59.51 0 1.02-.2 1.41-.59l7.78-7.78 2.81-2.81c.8-.78.8-2.07 0-2.86zM5.41 20L4 18.59l7.72-7.72 1.47 1.35L5.41 20z\"/>\n",
              "  </svg>\n",
              "      </button>\n",
              "      \n",
              "  <style>\n",
              "    .colab-df-container {\n",
              "      display:flex;\n",
              "      flex-wrap:wrap;\n",
              "      gap: 12px;\n",
              "    }\n",
              "\n",
              "    .colab-df-convert {\n",
              "      background-color: #E8F0FE;\n",
              "      border: none;\n",
              "      border-radius: 50%;\n",
              "      cursor: pointer;\n",
              "      display: none;\n",
              "      fill: #1967D2;\n",
              "      height: 32px;\n",
              "      padding: 0 0 0 0;\n",
              "      width: 32px;\n",
              "    }\n",
              "\n",
              "    .colab-df-convert:hover {\n",
              "      background-color: #E2EBFA;\n",
              "      box-shadow: 0px 1px 2px rgba(60, 64, 67, 0.3), 0px 1px 3px 1px rgba(60, 64, 67, 0.15);\n",
              "      fill: #174EA6;\n",
              "    }\n",
              "\n",
              "    [theme=dark] .colab-df-convert {\n",
              "      background-color: #3B4455;\n",
              "      fill: #D2E3FC;\n",
              "    }\n",
              "\n",
              "    [theme=dark] .colab-df-convert:hover {\n",
              "      background-color: #434B5C;\n",
              "      box-shadow: 0px 1px 3px 1px rgba(0, 0, 0, 0.15);\n",
              "      filter: drop-shadow(0px 1px 2px rgba(0, 0, 0, 0.3));\n",
              "      fill: #FFFFFF;\n",
              "    }\n",
              "  </style>\n",
              "\n",
              "      <script>\n",
              "        const buttonEl =\n",
              "          document.querySelector('#df-1a4665b7-1fc4-44c5-9f6f-27ab7708bc26 button.colab-df-convert');\n",
              "        buttonEl.style.display =\n",
              "          google.colab.kernel.accessAllowed ? 'block' : 'none';\n",
              "\n",
              "        async function convertToInteractive(key) {\n",
              "          const element = document.querySelector('#df-1a4665b7-1fc4-44c5-9f6f-27ab7708bc26');\n",
              "          const dataTable =\n",
              "            await google.colab.kernel.invokeFunction('convertToInteractive',\n",
              "                                                     [key], {});\n",
              "          if (!dataTable) return;\n",
              "\n",
              "          const docLinkHtml = 'Like what you see? Visit the ' +\n",
              "            '<a target=\"_blank\" href=https://colab.research.google.com/notebooks/data_table.ipynb>data table notebook</a>'\n",
              "            + ' to learn more about interactive tables.';\n",
              "          element.innerHTML = '';\n",
              "          dataTable['output_type'] = 'display_data';\n",
              "          await google.colab.output.renderOutput(dataTable, element);\n",
              "          const docLink = document.createElement('div');\n",
              "          docLink.innerHTML = docLinkHtml;\n",
              "          element.appendChild(docLink);\n",
              "        }\n",
              "      </script>\n",
              "    </div>\n",
              "  </div>\n",
              "  "
            ],
            "text/plain": [
              "        ID  Amount_Requested  ...  FICO_Range_Lower  FICO_Range_Upper\n",
              "0  81174.0           20000.0  ...             735.0             739.0\n",
              "1  99592.0           19200.0  ...             715.0             719.0\n",
              "2  80059.0           35000.0  ...             690.0             694.0\n",
              "3  15825.0           10000.0  ...             695.0             699.0\n",
              "4  33182.0           12000.0  ...             695.0             699.0\n",
              "\n",
              "[5 rows x 17 columns]"
            ]
          },
          "metadata": {},
          "execution_count": 23
        }
      ]
    },
    {
      "cell_type": "code",
      "source": [
        "df.info()"
      ],
      "metadata": {
        "colab": {
          "base_uri": "https://localhost:8080/"
        },
        "id": "MvJURX3nEsuO",
        "outputId": "89ac43c7-427b-4953-80fd-c01d2089131f"
      },
      "execution_count": 24,
      "outputs": [
        {
          "output_type": "stream",
          "name": "stdout",
          "text": [
            "<class 'pandas.core.frame.DataFrame'>\n",
            "RangeIndex: 2500 entries, 0 to 2499\n",
            "Data columns (total 17 columns):\n",
            " #   Column                          Non-Null Count  Dtype  \n",
            "---  ------                          --------------  -----  \n",
            " 0   ID                              2499 non-null   float64\n",
            " 1   Amount_Requested                2495 non-null   float64\n",
            " 2   Amount_Funded_By_Investors      2495 non-null   float64\n",
            " 3   Interest_Rate                   2500 non-null   float64\n",
            " 4   Loan_Length                     2498 non-null   float64\n",
            " 5   Loan_Purpose                    2499 non-null   object \n",
            " 6   Debt_To_Income_Ratio            2499 non-null   float64\n",
            " 7   State                           2499 non-null   object \n",
            " 8   Home_Ownership                  2499 non-null   object \n",
            " 9   Monthly_Income                  2497 non-null   float64\n",
            " 10  FICO_Range                      2500 non-null   object \n",
            " 11  Open_CREDIT_Lines               2491 non-null   float64\n",
            " 12  Revolving_CREDIT_Balance        2495 non-null   float64\n",
            " 13  Inquiries_in_the_Last_6_Months  2497 non-null   float64\n",
            " 14  Employment_Length               1518 non-null   float64\n",
            " 15  FICO_Range_Lower                2500 non-null   float64\n",
            " 16  FICO_Range_Upper                2500 non-null   float64\n",
            "dtypes: float64(13), object(4)\n",
            "memory usage: 332.2+ KB\n"
          ]
        }
      ]
    },
    {
      "cell_type": "code",
      "source": [
        "# We will now be dropping the unwanted columns from our dataset \n",
        "\n",
        "# The reason for dropping 'Amount_Funded_By_Investors' is that we need to predict the interest rate and 'Amount_Funded_By_Investors'\n",
        "# is the column that tells us the amount of loan given by the bank so it is after the interest rate.\n",
        "\n",
        "# The reason for dropping 'State' is that the bank wont be giving us the interest rate as per state but the interest rate is nation wise\n",
        "\n",
        "# The reason for dropping 'FICO_Range is that we already made 2 new columns in which we extractedd the FICO_Range\n",
        " \n",
        "df.drop(['ID','Amount_Funded_By_Investors','State','FICO_Range'],axis=1,inplace=True)"
      ],
      "metadata": {
        "id": "dY8RAXQ6EwJa"
      },
      "execution_count": 25,
      "outputs": []
    },
    {
      "cell_type": "code",
      "source": [
        "# Now we will fill in the missing values in the dataset by filling mean in numeric_columns and mode in categoric_columns.\n",
        "\n",
        "# Seperating our attributes in numeric and categoric columns.\n",
        "numeric_colums = df.select_dtypes(np.number).columns.to_list()\n",
        "categoric_columns = df.select_dtypes(object).columns.to_list()\n",
        "\n",
        "# Lets fill the numeric_columns with median of the column and categoric_columns with mode of the column\n",
        "\n",
        "df[numeric_colums] = df[numeric_colums].apply(lambda x: x.fillna(x.median()),axis=0)\n",
        "\n",
        "df[categoric_columns] = df[categoric_columns].apply(lambda x: x.fillna(x.mode()[0]),axis=0)"
      ],
      "metadata": {
        "id": "4DaEmeqXZ_Vo"
      },
      "execution_count": 26,
      "outputs": []
    },
    {
      "cell_type": "code",
      "source": [
        "# Lets check if our dataset has null values or not \n",
        "df.isnull().sum()"
      ],
      "metadata": {
        "colab": {
          "base_uri": "https://localhost:8080/"
        },
        "id": "FB0IysYDbtet",
        "outputId": "c78f4135-dff8-4ba1-8ed3-7a778cac9367"
      },
      "execution_count": 27,
      "outputs": [
        {
          "output_type": "execute_result",
          "data": {
            "text/plain": [
              "Amount_Requested                  0\n",
              "Interest_Rate                     0\n",
              "Loan_Length                       0\n",
              "Loan_Purpose                      0\n",
              "Debt_To_Income_Ratio              0\n",
              "Home_Ownership                    0\n",
              "Monthly_Income                    0\n",
              "Open_CREDIT_Lines                 0\n",
              "Revolving_CREDIT_Balance          0\n",
              "Inquiries_in_the_Last_6_Months    0\n",
              "Employment_Length                 0\n",
              "FICO_Range_Lower                  0\n",
              "FICO_Range_Upper                  0\n",
              "dtype: int64"
            ]
          },
          "metadata": {},
          "execution_count": 27
        }
      ]
    },
    {
      "cell_type": "markdown",
      "source": [
        "## Feature Engineering"
      ],
      "metadata": {
        "id": "kyTanJ3QemRC"
      }
    },
    {
      "cell_type": "code",
      "source": [
        "# Lets look at the categotic_columns and find the unique values in them.\n",
        "categoric_columns"
      ],
      "metadata": {
        "colab": {
          "base_uri": "https://localhost:8080/"
        },
        "id": "3_dl0RMver5q",
        "outputId": "4a1b3ef4-70ba-4d6a-82b7-22b9a8f28b59"
      },
      "execution_count": 28,
      "outputs": [
        {
          "output_type": "execute_result",
          "data": {
            "text/plain": [
              "['Loan_Purpose', 'Home_Ownership']"
            ]
          },
          "metadata": {},
          "execution_count": 28
        }
      ]
    },
    {
      "cell_type": "code",
      "source": [
        "# Finding out unique values in each column.\n",
        "for i in categoric_columns:\n",
        "  print(df[i].value_counts())"
      ],
      "metadata": {
        "colab": {
          "base_uri": "https://localhost:8080/"
        },
        "id": "1lWd31uNfLp0",
        "outputId": "6986fa38-b2fe-4f34-bc73-8ac9bbd14dee"
      },
      "execution_count": 29,
      "outputs": [
        {
          "output_type": "stream",
          "name": "stdout",
          "text": [
            "debt_consolidation    1308\n",
            "credit_card            444\n",
            "other                  200\n",
            "home_improvement       152\n",
            "major_purchase         101\n",
            "small_business          87\n",
            "car                     50\n",
            "wedding                 39\n",
            "medical                 30\n",
            "moving                  29\n",
            "vacation                21\n",
            "house                   20\n",
            "educational             15\n",
            "renewable_energy         4\n",
            "Name: Loan_Purpose, dtype: int64\n",
            "MORTGAGE    1148\n",
            "RENT        1146\n",
            "OWN          200\n",
            "OTHER          5\n",
            "NONE           1\n",
            "Name: Home_Ownership, dtype: int64\n"
          ]
        }
      ]
    },
    {
      "cell_type": "code",
      "source": [
        "# As seen from the results compared to debt_consolidation, renewable_energy is almost negligable so we merge.\n",
        "\n",
        "df['Loan_Purpose'].replace({'renewable_energy':'small_business','educational':'small_business',\n",
        "                            'house':'small_business','vacation':'small_business','moving':'small_business',\n",
        "                            'medical':'small_business','car':'small_business','wedding':'small_business'},inplace=True)"
      ],
      "metadata": {
        "id": "8EtmTYgreh8e"
      },
      "execution_count": 30,
      "outputs": []
    },
    {
      "cell_type": "code",
      "source": [
        "df['Home_Ownership'].replace({'NONE':'OWN','OTHER':'OWN'},inplace=True)"
      ],
      "metadata": {
        "id": "U_ArDbHceqfl"
      },
      "execution_count": 31,
      "outputs": []
    },
    {
      "cell_type": "markdown",
      "source": [
        "# Bi-Variate Analysis."
      ],
      "metadata": {
        "id": "b8KuQ6tiffsH"
      }
    },
    {
      "cell_type": "code",
      "source": [
        "# As univariate analysis is done on the numeric data\n",
        "\n",
        "plt.figure(figsize=(25,25))\n",
        "for i , variable in enumerate(numeric_colums): \n",
        "  plt.subplot(6,3,i+1)\n",
        "  plt.hist(df[variable])\n",
        "  plt.title(variable)\n",
        "plt.show()"
      ],
      "metadata": {
        "colab": {
          "base_uri": "https://localhost:8080/",
          "height": 939
        },
        "id": "YosJcScufqcc",
        "outputId": "8ca5e9a2-0524-41b0-c4da-4bd3b4c58f54"
      },
      "execution_count": 32,
      "outputs": [
        {
          "output_type": "display_data",
          "data": {
            "image/png": "[encoded data removed]",
            "text/plain": [
              "<Figure size 1800x1800 with 11 Axes>"
            ]
          },
          "metadata": {
            "needs_background": "light"
          }
        }
      ]
    },
    {
      "cell_type": "code",
      "source": [
        "# As seen we will now seperate continuous data columns.\n",
        "continuous_data_columns = ['Amount_Requested','Debt_To_Income_Ratio','Monthly_Income'\n",
        "                           ,'Revolving_CREDIT_Balance','FICO_Range_Lower',\n",
        "                           'FICO_Range_Upper']\n",
        "\n",
        "# Columns with cluttered data\n",
        "cluttered_data_columns = ['Monthly_Income','Revolving_CREDIT_Balance']"
      ],
      "metadata": {
        "id": "fstQLMm7oH5s"
      },
      "execution_count": 33,
      "outputs": []
    },
    {
      "cell_type": "code",
      "source": [
        "# Lets find the outliers in our dataset\n",
        "plt.figure(figsize=(25,25))\n",
        "for i, variable in enumerate(numeric_colums):  \n",
        "  plt.subplot(10,3,i+1)\n",
        "  plt.tight_layout()\n",
        "  sns.boxplot(df[variable])\n",
        "plt.show()"
      ],
      "metadata": {
        "colab": {
          "base_uri": "https://localhost:8080/",
          "height": 592
        },
        "id": "af4Z-gItgWhO",
        "outputId": "85ce02db-1669-4c99-c43e-157339bc3b14"
      },
      "execution_count": 34,
      "outputs": [
        {
          "output_type": "display_data",
          "data": {
            "image/png": "[encoded data removed]",
            "text/plain": [
              "<Figure size 1800x1800 with 11 Axes>"
            ]
          },
          "metadata": {
            "needs_background": "light"
          }
        }
      ]
    },
    {
      "cell_type": "code",
      "source": [
        "# As seen from the boxplot, there are outiers in our data so we need to do outlier clipping \n",
        "# We are defining a function called 'outlers' which will do outliers clipping for us\n",
        "# As we remove outliers of only independent variables and not target variable\n",
        "def outliers(features):\n",
        "  q1=df[features].quantile(0.25)\n",
        "  q3=df[features].quantile(0.75)\n",
        "  lower = q1 - 1.5*(q3-q1)\n",
        "  upper = q3 + 1.5*(q3-q1)\n",
        "  df[features] = np.clip(df[features],lower,upper)"
      ],
      "metadata": {
        "id": "y-m0fHnugyQS"
      },
      "execution_count": 35,
      "outputs": []
    },
    {
      "cell_type": "code",
      "source": [
        "for i in continuous_data_columns:\n",
        "  outliers(i)"
      ],
      "metadata": {
        "id": "GuKFv4ghhTqZ"
      },
      "execution_count": 36,
      "outputs": []
    },
    {
      "cell_type": "code",
      "source": [
        "# Lets check for outliers\n",
        "# Lets find the outliers in our dataset\n",
        "plt.figure(figsize=(25,25))\n",
        "for i, variable in enumerate(continuous_data_columns):  \n",
        "  plt.subplot(10,3,i+1)\n",
        "  plt.tight_layout()\n",
        "  sns.boxplot(df[variable])\n",
        "plt.show()"
      ],
      "metadata": {
        "colab": {
          "base_uri": "https://localhost:8080/",
          "height": 306
        },
        "id": "WLmkue-foX8O",
        "outputId": "266cf16b-776e-4aef-f1c6-4b0b7502554c"
      },
      "execution_count": 37,
      "outputs": [
        {
          "output_type": "display_data",
          "data": {
            "image/png": "[encoded data removed]",
            "text/plain": [
              "<Figure size 1800x1800 with 6 Axes>"
            ]
          },
          "metadata": {
            "needs_background": "light"
          }
        }
      ]
    },
    {
      "cell_type": "code",
      "source": [
        "# Lets ee if our continuous_data_columns has a normal distribution or not\n",
        "plt.figure(figsize=(20,25))\n",
        "for i, variable in enumerate(continuous_data_columns):\n",
        "  plt.subplot(5,3,i+1)\n",
        "  sns.distplot(df[variable],color='red')\n",
        "plt.show()"
      ],
      "metadata": {
        "colab": {
          "base_uri": "https://localhost:8080/",
          "height": 589
        },
        "id": "qmIb811hpBsS",
        "outputId": "0751fc5b-f677-4920-92bc-39c61dc86313"
      },
      "execution_count": 38,
      "outputs": [
        {
          "output_type": "display_data",
          "data": {
            "image/png": "[encoded data removed]",
            "text/plain": [
              "<Figure size 1440x1800 with 6 Axes>"
            ]
          },
          "metadata": {
            "needs_background": "light"
          }
        }
      ]
    },
    {
      "cell_type": "code",
      "source": [
        "# fUNCTION TO CREATE BARPLOTS THAT INDICATE PERCENTAGE FOR EACH CATEGORY.\n",
        "def perc_on_bar(plot,feature):\n",
        "  \"\"\"\n",
        "  plot\n",
        "  feature: categorical features\n",
        "  the function won't work if a column is passd in hue parameter\n",
        "  \"\"\"\n",
        "  total = len(feature) # length of the column\n",
        "  for p in ax.patches:\n",
        "    percentage = '{:.1f}%'.format(100*p.get_height()/total) # percentage of each class of the category\n",
        "    x=p.get_x() + p.get_width() / 2 - 0.05 # width of the plot\n",
        "    y=p.get_y() + p.get_height()    # Height of the plot\n",
        "    ax.annotate(percentage,(x,y),size = 12)  # annotate the percentage\n",
        "plt.show()"
      ],
      "metadata": {
        "id": "dGGf4XaPqBcK"
      },
      "execution_count": 39,
      "outputs": []
    },
    {
      "cell_type": "code",
      "source": [
        "for i in categoric_columns:\n",
        "  plt.figure(figsize = (15,5))\n",
        "  ax = sns.countplot(df[i],palette='winter')\n",
        "  perc_on_bar(ax,df[i])"
      ],
      "metadata": {
        "colab": {
          "base_uri": "https://localhost:8080/",
          "height": 656
        },
        "id": "ptBDR1noq02-",
        "outputId": "9787361a-1b99-4446-d110-2de459f0c123"
      },
      "execution_count": 40,
      "outputs": [
        {
          "output_type": "display_data",
          "data": {
            "image/png": "[encoded data removed]",
            "text/plain": [
              "<Figure size 1080x360 with 1 Axes>"
            ]
          },
          "metadata": {
            "needs_background": "light"
          }
        },
        {
          "output_type": "display_data",
          "data": {
            "image/png": "[encoded data removed]",
            "text/plain": [
              "<Figure size 1080x360 with 1 Axes>"
            ]
          },
          "metadata": {
            "needs_background": "light"
          }
        }
      ]
    },
    {
      "cell_type": "markdown",
      "source": [
        "## Observations: \n",
        "1. As seen from the graphs our data had outliers which we removed by clipping the outliers to lower and upper whisker respectively.\n",
        "2. The Loan_Purpose for most of the people is debt_consolidation while major_purchase being the least.\n",
        "3. The maximum people requesting for a loan has already MORTGAGE on thier Home."
      ],
      "metadata": {
        "id": "0El7Fbf0rYDe"
      }
    },
    {
      "cell_type": "markdown",
      "source": [
        "# Bi-Variate Analysis\n"
      ],
      "metadata": {
        "id": "ykN9Fs-9rQxN"
      }
    },
    {
      "cell_type": "code",
      "source": [
        "plt.bar(df['Loan_Purpose'], df['Interest_Rate'])\n",
        "plt.title('Loan_Purpose Vs Interest_Rate')\n",
        "plt.xlabel('Loan_Purpose')\n",
        "plt.ylabel('Interest_Rate')\n",
        "plt.xticks(rotation=90)\n",
        "plt.show()\n",
        "# The resulting graph shows that how the Interest_Rate varies for different Loan_Purposes"
      ],
      "metadata": {
        "colab": {
          "base_uri": "https://localhost:8080/",
          "height": 386
        },
        "id": "dGzpbEH2q11p",
        "outputId": "feb78f31-bc7d-47fa-d24c-9cb37bffe9e5"
      },
      "execution_count": 41,
      "outputs": [
        {
          "output_type": "display_data",
          "data": {
            "image/png": "[encoded data removed]",
            "text/plain": [
              "<Figure size 432x288 with 1 Axes>"
            ]
          },
          "metadata": {
            "needs_background": "light"
          }
        }
      ]
    },
    {
      "cell_type": "code",
      "source": [
        "plt.bar(df['Home_Ownership'], df['Interest_Rate'])\n",
        "plt.title('Home_Ownership Vs Interest_Rate')\n",
        "plt.xlabel('Home_Ownership')\n",
        "plt.ylabel('Interest_Rate')\n",
        "plt.show()\n",
        "# The resulting graph shows that how the Interest_Rate varies for different Home_Ownership"
      ],
      "metadata": {
        "colab": {
          "base_uri": "https://localhost:8080/",
          "height": 296
        },
        "id": "cT9VesQPvX1l",
        "outputId": "d89807b5-d3e5-4fad-83a1-c0f069c1092a"
      },
      "execution_count": 42,
      "outputs": [
        {
          "output_type": "display_data",
          "data": {
            "image/png": "[encoded data removed]",
            "text/plain": [
              "<Figure size 432x288 with 1 Axes>"
            ]
          },
          "metadata": {
            "needs_background": "light"
          }
        }
      ]
    },
    {
      "cell_type": "markdown",
      "source": [
        "## Observation: \n",
        "1. The Interest_Rate is lowest for major_purchases while highest being for small_business which implies that there is more risk in giving loan for the purpose of small_business as it may fail resulting in not able to pay back the loan amount.\n",
        "2. The Interest_Rate for the people with own home is less as compared to people who already has a MORTGAGE on the house or lives in rented house."
      ],
      "metadata": {
        "id": "MrLQolC2vVk9"
      }
    },
    {
      "cell_type": "markdown",
      "source": [
        "# Multi-Variate Analysis"
      ],
      "metadata": {
        "id": "LSA8JIWiws3e"
      }
    },
    {
      "cell_type": "code",
      "source": [
        "plt.figure(figsize=(15,5))\n",
        "plt.title('Loan_Purpose Vs Interest_Rate')\n",
        "plt.legend()\n",
        "sns.lineplot(df['Loan_Purpose'], df['Interest_Rate'],df['Home_Ownership'])\n",
        "plt.show()"
      ],
      "metadata": {
        "colab": {
          "base_uri": "https://localhost:8080/",
          "height": 370
        },
        "id": "87CoyrIBsN14",
        "outputId": "890844c3-ca73-4e9c-fda2-1745cec6cf87"
      },
      "execution_count": 43,
      "outputs": [
        {
          "output_type": "stream",
          "name": "stderr",
          "text": [
            "No handles with labels found to put in legend.\n"
          ]
        },
        {
          "output_type": "display_data",
          "data": {
            "image/png": "[encoded data removed]",
            "text/plain": [
              "<Figure size 1080x360 with 1 Axes>"
            ]
          },
          "metadata": {
            "needs_background": "light"
          }
        }
      ]
    },
    {
      "cell_type": "markdown",
      "source": [
        "## Observations: \n",
        "The graph shows how for various Loan_Purpose the Interest_Rate varies when people have various Home_Ownership\n",
        "\n",
        "It implies that if a person has Mortgage on his house then for major_purchases he will get least interest rate."
      ],
      "metadata": {
        "id": "-1eM9Nn4zdrV"
      }
    },
    {
      "cell_type": "markdown",
      "source": [
        "# Modelling"
      ],
      "metadata": {
        "id": "a0FyYfzu0QfP"
      }
    },
    {
      "cell_type": "code",
      "source": [
        "X = df.drop(['Interest_Rate'],axis=1)\n",
        "Y = df[['Interest_Rate']]\n",
        "print(X)\n",
        "print(Y)"
      ],
      "metadata": {
        "colab": {
          "base_uri": "https://localhost:8080/"
        },
        "id": "QdmdrVlTzY21",
        "outputId": "0fbaf3d5-f406-4199-d4ca-5a7fd770411f"
      },
      "execution_count": 44,
      "outputs": [
        {
          "output_type": "stream",
          "name": "stdout",
          "text": [
            "      Amount_Requested  Loan_Length  ... FICO_Range_Lower  FICO_Range_Upper\n",
            "0              20000.0         36.0  ...            735.0             739.0\n",
            "1              19200.0         36.0  ...            715.0             719.0\n",
            "2              33500.0         60.0  ...            690.0             694.0\n",
            "3              10000.0         36.0  ...            695.0             699.0\n",
            "4              12000.0         36.0  ...            695.0             699.0\n",
            "...                ...          ...  ...              ...               ...\n",
            "2495           30000.0         60.0  ...            705.0             709.0\n",
            "2496           16000.0         60.0  ...            740.0             744.0\n",
            "2497           10000.0         36.0  ...            680.0             684.0\n",
            "2498            6000.0         36.0  ...            675.0             679.0\n",
            "2499            9000.0         36.0  ...            670.0             674.0\n",
            "\n",
            "[2500 rows x 12 columns]\n",
            "      Interest_Rate\n",
            "0            0.0890\n",
            "1            0.1212\n",
            "2            0.2198\n",
            "3            0.0999\n",
            "4            0.1171\n",
            "...             ...\n",
            "2495         0.1677\n",
            "2496         0.1409\n",
            "2497         0.1399\n",
            "2498         0.1242\n",
            "2499         0.1379\n",
            "\n",
            "[2500 rows x 1 columns]\n"
          ]
        }
      ]
    },
    {
      "cell_type": "code",
      "source": [
        "# We are creating dummies for categorical data\n",
        "X=pd.get_dummies(X,columns= categoric_columns,drop_first = True)"
      ],
      "metadata": {
        "id": "9AufhyNN0TRc"
      },
      "execution_count": 45,
      "outputs": []
    },
    {
      "cell_type": "markdown",
      "source": [
        "# Sklearn Model"
      ],
      "metadata": {
        "id": "EpUYQJYv2Sds"
      }
    },
    {
      "cell_type": "code",
      "source": [
        "# Split the data into Train and Test\n",
        "from sklearn.model_selection import train_test_split\n",
        "X_train, X_test, Y_train, Y_test = train_test_split(X,Y ,test_size = 0.3, random_state = 13)"
      ],
      "metadata": {
        "id": "4HsPg8N40V3O"
      },
      "execution_count": 46,
      "outputs": []
    },
    {
      "cell_type": "code",
      "source": [
        "# Fitting linear model\n",
        "\n",
        "from sklearn.linear_model import LinearRegression \n",
        "linearregression = LinearRegression()\n",
        "linearregression.fit(X_train, Y_train)"
      ],
      "metadata": {
        "colab": {
          "base_uri": "https://localhost:8080/"
        },
        "id": "J6vcBuf80ZN-",
        "outputId": "0c502027-b279-43fd-d4ca-9bde1c63aa80"
      },
      "execution_count": 47,
      "outputs": [
        {
          "output_type": "execute_result",
          "data": {
            "text/plain": [
              "LinearRegression()"
            ]
          },
          "metadata": {},
          "execution_count": 47
        }
      ]
    },
    {
      "cell_type": "code",
      "source": [
        "# Lets look at the Beta values in the equation of linear regression\n",
        "print('Intercept of the linear equation: ', linearregression.intercept_)  # beta0\n",
        "print('\\nCoefficients of the equaion are: ',linearregression.coef_)       # beta1,beta2....beta n"
      ],
      "metadata": {
        "colab": {
          "base_uri": "https://localhost:8080/"
        },
        "id": "SCGbw0oO0buN",
        "outputId": "e100e10a-9df8-4282-b9c3-9e31e50f4981"
      },
      "execution_count": 48,
      "outputs": [
        {
          "output_type": "stream",
          "name": "stdout",
          "text": [
            "Intercept of the linear equation:  [0.69143058]\n",
            "\n",
            "Coefficients of the equaion are:  [[ 1.73075867e-06  1.35865219e-03 -1.78089791e-03 -6.92312510e-07\n",
            "  -1.45123971e-04 -1.62372209e-07  3.17583509e-03  1.01992239e-04\n",
            "  -4.48982375e-04 -4.48982375e-04  4.43309781e-04  8.20867728e-04\n",
            "   5.14538007e-03  7.98762046e-03  3.47924750e-03  7.83087069e-04\n",
            "   1.10801393e-03]]\n"
          ]
        }
      ]
    },
    {
      "cell_type": "code",
      "source": [
        "pred_train = linearregression.predict(X_train)\n",
        "pred_test = linearregression.predict(X_test)"
      ],
      "metadata": {
        "id": "DhJPPhxG0lhY"
      },
      "execution_count": 49,
      "outputs": []
    },
    {
      "cell_type": "code",
      "source": [
        "from sklearn.metrics import r2_score, mean_absolute_error, mean_absolute_percentage_error"
      ],
      "metadata": {
        "id": "hxEy9Wzv0vu6"
      },
      "execution_count": 50,
      "outputs": []
    },
    {
      "cell_type": "code",
      "source": [
        "# Lets look at our model Predictions\n",
        "print('R2_Score on Train :',r2_score(Y_train, pred_train))\n",
        "print('R2_Score on Test :',r2_score(Y_test, pred_test))\n",
        "print('*'*20)\n",
        "print('Mean Absolute Error on Train :',mean_absolute_error(Y_train,pred_train))\n",
        "print('Mean Absolute Error on Test :',mean_absolute_error(Y_test,pred_test))\n",
        "print('*'*20)\n",
        "print('Mean Absolute Percentage Error on Train :',mean_absolute_percentage_error(Y_train,pred_train))\n",
        "print('Mean Absolute Percentage Error on Test :',mean_absolute_percentage_error(Y_test,pred_test))"
      ],
      "metadata": {
        "colab": {
          "base_uri": "https://localhost:8080/"
        },
        "id": "Nb-Mb5md0vs0",
        "outputId": "c29a19f7-b064-4cd8-ee7d-d0794f35450f"
      },
      "execution_count": 51,
      "outputs": [
        {
          "output_type": "stream",
          "name": "stdout",
          "text": [
            "R2_Score on Train : 0.7710205989850899\n",
            "R2_Score on Test : 0.7648282721155835\n",
            "********************\n",
            "Mean Absolute Error on Train : 0.015753242085823696\n",
            "Mean Absolute Error on Test : 0.015263732284369946\n",
            "********************\n",
            "Mean Absolute Percentage Error on Train : 0.1339875746415324\n",
            "Mean Absolute Percentage Error on Test : 0.13602274233756537\n"
          ]
        }
      ]
    },
    {
      "cell_type": "markdown",
      "source": [
        "# Stats Model"
      ],
      "metadata": {
        "id": "o4I54HDk2Udu"
      }
    },
    {
      "cell_type": "code",
      "source": [
        "import statsmodels.api as sm\n",
        "# Let us buit linear regression model using statsmodel\n",
        "# We add constant as there is no interept in statsmodel\n",
        "X = sm.add_constant(X)\n",
        "X_train, X_test, Y_train, Y_test = train_test_split(X,Y, test_size = 0.3,random_state = 51)\n",
        "\n",
        "olsmod0 = sm.OLS(Y_train, X_train)\n",
        "olsres0 = olsmod0.fit()\n",
        "print(olsres0.summary())"
      ],
      "metadata": {
        "colab": {
          "base_uri": "https://localhost:8080/"
        },
        "id": "zmu-lo7V0vdq",
        "outputId": "5f1009e2-0547-4bee-f555-4934955647b2"
      },
      "execution_count": 52,
      "outputs": [
        {
          "output_type": "stream",
          "name": "stdout",
          "text": [
            "                            OLS Regression Results                            \n",
            "==============================================================================\n",
            "Dep. Variable:          Interest_Rate   R-squared:                       0.770\n",
            "Model:                            OLS   Adj. R-squared:                  0.768\n",
            "Method:                 Least Squares   F-statistic:                     363.6\n",
            "Date:                Thu, 27 Jan 2022   Prob (F-statistic):               0.00\n",
            "Time:                        18:57:17   Log-Likelihood:                 4365.6\n",
            "No. Observations:                1750   AIC:                            -8697.\n",
            "Df Residuals:                    1733   BIC:                            -8604.\n",
            "Df Model:                          16                                         \n",
            "Covariance Type:            nonrobust                                         \n",
            "===================================================================================================\n",
            "                                      coef    std err          t      P>|t|      [0.025      0.975]\n",
            "---------------------------------------------------------------------------------------------------\n",
            "const                               0.0759      0.001     60.272      0.000       0.073       0.078\n",
            "Amount_Requested                 1.747e-06   8.27e-08     21.114      0.000    1.58e-06    1.91e-06\n",
            "Loan_Length                         0.0013   5.41e-05     24.121      0.000       0.001       0.001\n",
            "Debt_To_Income_Ratio               -0.0047      0.008     -0.607      0.544      -0.020       0.011\n",
            "Monthly_Income                  -4.186e-07   2.45e-07     -1.707      0.088      -9e-07    6.24e-08\n",
            "Open_CREDIT_Lines                  -0.0002      0.000     -1.714      0.087      -0.000    3.08e-05\n",
            "Revolving_CREDIT_Balance        -1.151e-07   5.79e-08     -1.989      0.047   -2.29e-07   -1.59e-09\n",
            "Inquiries_in_the_Last_6_Months      0.0034      0.000      8.519      0.000       0.003       0.004\n",
            "Employment_Length                   0.0001      0.000      0.421      0.674      -0.000       0.001\n",
            "FICO_Range_Lower                   -0.1522      0.003    -60.276      0.000      -0.157      -0.147\n",
            "FICO_Range_Upper                    0.1513      0.003     60.268      0.000       0.146       0.156\n",
            "Loan_Purpose_debt_consolidation     0.0006      0.001      0.466      0.641      -0.002       0.003\n",
            "Loan_Purpose_home_improvement      -0.0012      0.002     -0.529      0.597      -0.006       0.003\n",
            "Loan_Purpose_major_purchase         0.0059      0.003      2.140      0.033       0.000       0.011\n",
            "Loan_Purpose_other                  0.0062      0.002      2.949      0.003       0.002       0.010\n",
            "Loan_Purpose_small_business         0.0051      0.002      2.752      0.006       0.001       0.009\n",
            "Home_Ownership_OWN                  0.0017      0.002      0.901      0.368      -0.002       0.005\n",
            "Home_Ownership_RENT                 0.0021      0.001      1.952      0.051    -9.7e-06       0.004\n",
            "==============================================================================\n",
            "Omnibus:                       76.389   Durbin-Watson:                   1.933\n",
            "Prob(Omnibus):                  0.000   Jarque-Bera (JB):              118.043\n",
            "Skew:                           0.381   Prob(JB):                     2.33e-26\n",
            "Kurtosis:                       4.019   Cond. No.                     1.08e+17\n",
            "==============================================================================\n",
            "\n",
            "Warnings:\n",
            "[1] Standard Errors assume that the covariance matrix of the errors is correctly specified.\n",
            "[2] The smallest eigenvalue is 7.4e-23. This might indicate that there are\n",
            "strong multicollinearity problems or that the design matrix is singular.\n"
          ]
        }
      ]
    },
    {
      "cell_type": "code",
      "source": [
        "# Checking for multi-colinearity using VIF \n",
        "from statsmodels.stats.outliers_influence import variance_inflation_factor\n",
        "vif_series1 = pd.Series([variance_inflation_factor(X_train.values,i) for i in range(X_train.shape[1])],index = X_train.columns)\n",
        "vif_series2 = vif_series1.sort_values(ascending=False)\n",
        "print(f'Series before feature selection: \\n\\n {vif_series2}')"
      ],
      "metadata": {
        "colab": {
          "base_uri": "https://localhost:8080/"
        },
        "id": "VHEqTdNj2WJW",
        "outputId": "d4b9157e-5d07-492c-e86e-3cc06976eb64"
      },
      "execution_count": 53,
      "outputs": [
        {
          "output_type": "stream",
          "name": "stdout",
          "text": [
            "Series before feature selection: \n",
            "\n",
            " FICO_Range_Upper                        inf\n",
            "FICO_Range_Lower                        inf\n",
            "Loan_Purpose_debt_consolidation    1.875030\n",
            "Amount_Requested                   1.744459\n",
            "Monthly_Income                     1.723716\n",
            "Revolving_CREDIT_Balance           1.606386\n",
            "Loan_Purpose_small_business        1.570137\n",
            "Debt_To_Income_Ratio               1.465589\n",
            "Loan_Purpose_other                 1.357418\n",
            "Loan_Purpose_home_improvement      1.357064\n",
            "Open_CREDIT_Lines                  1.356426\n",
            "Home_Ownership_RENT                1.295383\n",
            "Loan_Purpose_major_purchase        1.279910\n",
            "Loan_Length                        1.260345\n",
            "Home_Ownership_OWN                 1.123981\n",
            "Inquiries_in_the_Last_6_Months     1.054713\n",
            "Employment_Length                  1.024260\n",
            "const                              0.000000\n",
            "dtype: float64\n"
          ]
        }
      ]
    },
    {
      "cell_type": "code",
      "source": [
        "# Here we are defining a function to drop vif > 5 one by one.\n",
        "def calculate_vif(X,thresh=5.0):\n",
        "\n",
        "  variables = list(range(X.shape[1]))\n",
        "  dropped = True\n",
        "  while dropped:\n",
        "\n",
        "    dropped = False\n",
        "    vif = [variance_inflation_factor(X.iloc[:, variables].values, ix)\n",
        "           for  ix in range(X.iloc[:, variables].shape[1])]\n",
        "\n",
        "    maxloc = vif.index(max(vif))\n",
        "    if max(vif) > thresh:\n",
        "\n",
        "      print('Dropping \\''+ X.iloc[:,variables].columns[maxloc]+\n",
        "            '\\' at index: ' + str(maxloc))\n",
        "      \n",
        "      del variables[maxloc]\n",
        "      dropped =True\n",
        "\n",
        " \n",
        "  print(X.columns[variables])\n",
        "  return X.iloc[:,variables]"
      ],
      "metadata": {
        "id": "YASAMvge2WHc"
      },
      "execution_count": 54,
      "outputs": []
    },
    {
      "cell_type": "code",
      "source": [
        "# Creating a new X_train with dropped VIF > 5\n",
        "X_train1 = calculate_vif(X_train)"
      ],
      "metadata": {
        "colab": {
          "base_uri": "https://localhost:8080/"
        },
        "id": "YmiNZKMA2WE0",
        "outputId": "53946f20-d577-4ded-dfb5-2869398efd1f"
      },
      "execution_count": 55,
      "outputs": [
        {
          "output_type": "stream",
          "name": "stdout",
          "text": [
            "Dropping 'FICO_Range_Lower' at index: 9\n",
            "Dropping 'const' at index: 0\n",
            "Dropping 'FICO_Range_Upper' at index: 8\n",
            "Dropping 'Loan_Length' at index: 1\n",
            "Dropping 'Monthly_Income' at index: 2\n",
            "Dropping 'Open_CREDIT_Lines' at index: 2\n",
            "Dropping 'Debt_To_Income_Ratio' at index: 1\n",
            "Index(['Amount_Requested', 'Revolving_CREDIT_Balance',\n",
            "       'Inquiries_in_the_Last_6_Months', 'Employment_Length',\n",
            "       'Loan_Purpose_debt_consolidation', 'Loan_Purpose_home_improvement',\n",
            "       'Loan_Purpose_major_purchase', 'Loan_Purpose_other',\n",
            "       'Loan_Purpose_small_business', 'Home_Ownership_OWN',\n",
            "       'Home_Ownership_RENT'],\n",
            "      dtype='object')\n"
          ]
        }
      ]
    },
    {
      "cell_type": "code",
      "source": [
        "# Lets check if the value of vif > 5 has been dropped or not\n",
        "from statsmodels.stats.outliers_influence import variance_inflation_factor\n",
        "vif_series1 = pd.Series([variance_inflation_factor(X_train1.values,i) for i in range(X_train1.shape[1])],index = X_train1.columns)\n",
        "vif_series2 = vif_series1.sort_values(ascending=False)\n",
        "print(f'Series before feature selection: \\n\\n {vif_series2}')"
      ],
      "metadata": {
        "colab": {
          "base_uri": "https://localhost:8080/"
        },
        "id": "LG6goE2e26Hj",
        "outputId": "c690754c-e629-4aad-d0d7-b8d539b62974"
      },
      "execution_count": 56,
      "outputs": [
        {
          "output_type": "stream",
          "name": "stdout",
          "text": [
            "Series before feature selection: \n",
            "\n",
            " Employment_Length                  4.390113\n",
            "Amount_Requested                   4.120168\n",
            "Loan_Purpose_debt_consolidation    3.075434\n",
            "Revolving_CREDIT_Balance           3.018968\n",
            "Home_Ownership_RENT                1.805305\n",
            "Inquiries_in_the_Last_6_Months     1.530539\n",
            "Loan_Purpose_small_business        1.417393\n",
            "Loan_Purpose_other                 1.279607\n",
            "Loan_Purpose_home_improvement      1.225564\n",
            "Home_Ownership_OWN                 1.128680\n",
            "Loan_Purpose_major_purchase        1.117812\n",
            "dtype: float64\n"
          ]
        }
      ]
    },
    {
      "cell_type": "code",
      "source": [
        "# This is a function to drop the p-value > 0.05\n",
        "cols = X_train1.columns.tolist()\n",
        "max_p_value = 1\n",
        "while len(cols) > 0:\n",
        "    # Defining the train set\n",
        "    X_train1_aux = X_train1[cols]\n",
        "    # fitting model\n",
        "    model = sm.OLS(Y_train, X_train1_aux).fit()\n",
        "    # Getting the p-value and the maximum p-value\n",
        "    p_values = model.pvalues\n",
        "    max_p_value = max(p_values)\n",
        "    # name the variable with maximum p-value\n",
        "    feature_with_p_max = p_values.idxmax()\n",
        "    if max_p_value > 0.05:\n",
        "        cols.remove(feature_with_p_max)\n",
        "    else:\n",
        "            break\n",
        "           \n",
        "selected_features = cols\n",
        "print(selected_features)"
      ],
      "metadata": {
        "colab": {
          "base_uri": "https://localhost:8080/"
        },
        "id": "kaT-C5LU28Ln",
        "outputId": "b8cf927b-22f3-4b46-d70c-1fa4d43acd22"
      },
      "execution_count": 57,
      "outputs": [
        {
          "output_type": "stream",
          "name": "stdout",
          "text": [
            "['Amount_Requested', 'Revolving_CREDIT_Balance', 'Inquiries_in_the_Last_6_Months', 'Employment_Length', 'Loan_Purpose_debt_consolidation', 'Loan_Purpose_home_improvement', 'Loan_Purpose_major_purchase', 'Loan_Purpose_other', 'Loan_Purpose_small_business', 'Home_Ownership_OWN', 'Home_Ownership_RENT']\n"
          ]
        }
      ]
    },
    {
      "cell_type": "code",
      "source": [
        "# Creating a new X_train with columns with p-value < 0.05\n",
        "X_train2 = X_train1_aux"
      ],
      "metadata": {
        "id": "QhEziKV03APh"
      },
      "execution_count": 58,
      "outputs": []
    },
    {
      "cell_type": "code",
      "source": [
        "# Again fitting the new updated X_train in the stats-model\n",
        "olsmod1 = sm.OLS(Y_train, X_train2)\n",
        "olsres1 = olsmod1.fit()\n",
        "print(olsres1.summary())"
      ],
      "metadata": {
        "colab": {
          "base_uri": "https://localhost:8080/"
        },
        "id": "ijVQt1hh3Tmt",
        "outputId": "32d53838-86c8-4a23-98cf-23f48796b585"
      },
      "execution_count": 59,
      "outputs": [
        {
          "output_type": "stream",
          "name": "stdout",
          "text": [
            "                                 OLS Regression Results                                \n",
            "=======================================================================================\n",
            "Dep. Variable:          Interest_Rate   R-squared (uncentered):                   0.901\n",
            "Model:                            OLS   Adj. R-squared (uncentered):              0.901\n",
            "Method:                 Least Squares   F-statistic:                              1445.\n",
            "Date:                Thu, 27 Jan 2022   Prob (F-statistic):                        0.00\n",
            "Time:                        18:57:18   Log-Likelihood:                          3022.5\n",
            "No. Observations:                1750   AIC:                                     -6023.\n",
            "Df Residuals:                    1739   BIC:                                     -5963.\n",
            "Df Model:                          11                                                  \n",
            "Covariance Type:            nonrobust                                                  \n",
            "===================================================================================================\n",
            "                                      coef    std err          t      P>|t|      [0.025      0.975]\n",
            "---------------------------------------------------------------------------------------------------\n",
            "Amount_Requested                 2.835e-06   1.44e-07     19.753      0.000    2.55e-06    3.12e-06\n",
            "Revolving_CREDIT_Balance         8.539e-07   1.04e-07      8.218      0.000     6.5e-07    1.06e-06\n",
            "Inquiries_in_the_Last_6_Months      0.0103      0.001     12.322      0.000       0.009       0.012\n",
            "Employment_Length                   0.0070      0.000     14.787      0.000       0.006       0.008\n",
            "Loan_Purpose_debt_consolidation     0.0269      0.003     10.711      0.000       0.022       0.032\n",
            "Loan_Purpose_home_improvement       0.0221      0.005      4.758      0.000       0.013       0.031\n",
            "Loan_Purpose_major_purchase         0.0228      0.005      4.216      0.000       0.012       0.033\n",
            "Loan_Purpose_other                  0.0305      0.004      7.184      0.000       0.022       0.039\n",
            "Loan_Purpose_small_business         0.0307      0.004      8.647      0.000       0.024       0.038\n",
            "Home_Ownership_OWN                  0.0294      0.004      7.531      0.000       0.022       0.037\n",
            "Home_Ownership_RENT                 0.0340      0.002     16.593      0.000       0.030       0.038\n",
            "==============================================================================\n",
            "Omnibus:                        0.976   Durbin-Watson:                   1.981\n",
            "Prob(Omnibus):                  0.614   Jarque-Bera (JB):                1.039\n",
            "Skew:                          -0.037   Prob(JB):                        0.595\n",
            "Kurtosis:                       2.906   Cond. No.                     1.24e+05\n",
            "==============================================================================\n",
            "\n",
            "Warnings:\n",
            "[1] Standard Errors assume that the covariance matrix of the errors is correctly specified.\n",
            "[2] The condition number is large, 1.24e+05. This might indicate that there are\n",
            "strong multicollinearity or other numerical problems.\n"
          ]
        }
      ]
    },
    {
      "cell_type": "code",
      "source": [
        "X_test_final = X_test[X_train1_aux.columns]     # We are filtering out the columns in train in which we filtered"
      ],
      "metadata": {
        "id": "gkRRU8IU5OMp"
      },
      "execution_count": 60,
      "outputs": []
    },
    {
      "cell_type": "code",
      "source": [
        "pred_train_stats_model = olsres1.predict(X_train2)\n",
        "pred_test_stats_model  = olsres1.predict(X_test_final)"
      ],
      "metadata": {
        "id": "WJ4yfsv57NKm"
      },
      "execution_count": 69,
      "outputs": []
    },
    {
      "cell_type": "code",
      "source": [
        "# Lets look at our model Predictions\n",
        "\n",
        "print('Mean Absolute Error on Train :',mean_absolute_error(Y_train,pred_train_stats_model))\n",
        "print('Mean Absolute Error on Test :',mean_absolute_error(Y_test,pred_test_stats_model))\n",
        "print('*'*20)\n",
        "print('Mean Absolute Percentage Error on Train :',mean_absolute_percentage_error(Y_train,pred_train_stats_model))\n",
        "print('Mean Absolute Percentage Error on Test :',mean_absolute_percentage_error(Y_test,pred_test_stats_model))"
      ],
      "metadata": {
        "colab": {
          "base_uri": "https://localhost:8080/"
        },
        "id": "EaQm4cuf7NIe",
        "outputId": "a1e1bcbe-619f-4383-c34d-bd9491a9ce9f"
      },
      "execution_count": 73,
      "outputs": [
        {
          "output_type": "stream",
          "name": "stdout",
          "text": [
            "Mean Absolute Error on Train : 0.03452287061540414\n",
            "Mean Absolute Error on Test : 0.03666489087271372\n",
            "********************\n",
            "Mean Absolute Percentage Error on Train : 0.29565202215868913\n",
            "Mean Absolute Percentage Error on Test : 0.30715535294849\n"
          ]
        }
      ]
    },
    {
      "cell_type": "markdown",
      "source": [
        "# Assumption Of Linear Regression"
      ],
      "metadata": {
        "id": "3NtlXpH435Rl"
      }
    },
    {
      "cell_type": "markdown",
      "source": [
        "### 1. Linearity "
      ],
      "metadata": {
        "id": "dzvr1FP94Agd"
      }
    },
    {
      "cell_type": "code",
      "source": [
        "residual = olsres1.resid\n",
        "np.mean(residual)\n",
        "\n",
        "\n",
        "residual = olsres1.resid\n",
        "fitted =olsres1.fittedvalues # predicted values"
      ],
      "metadata": {
        "id": "XG6Ot_tp3332"
      },
      "execution_count": 61,
      "outputs": []
    },
    {
      "cell_type": "code",
      "source": [
        "sns.set_style('whitegrid')\n",
        "sns.residplot(fitted,residual,lowess=True,color='maroon')\n",
        "plt.xlabel('Fitted Values')\n",
        "plt.ylabel('Residual')\n",
        "plt.title('Residual PLOT')\n",
        "plt.show()"
      ],
      "metadata": {
        "colab": {
          "base_uri": "https://localhost:8080/",
          "height": 295
        },
        "id": "Dj67TJMi41R7",
        "outputId": "7f0f2035-8a75-495b-f601-240227571df3"
      },
      "execution_count": 68,
      "outputs": [
        {
          "output_type": "display_data",
          "data": {
            "image/png": "[encoded data removed]",
            "text/plain": [
              "<Figure size 432x288 with 1 Axes>"
            ]
          },
          "metadata": {}
        }
      ]
    },
    {
      "cell_type": "markdown",
      "source": [
        "The graph shows that for my model the how my linear line is compared to the mean of the errors, the more the line matching to the model the better."
      ],
      "metadata": {
        "id": "N8JCKyPX5o-m"
      }
    },
    {
      "cell_type": "markdown",
      "source": [
        "### Normality Of Errors"
      ],
      "metadata": {
        "id": "anMBq5xK43t6"
      }
    },
    {
      "cell_type": "code",
      "source": [
        "sns.distplot(residual)\n",
        "plt.title('Normalilty of residuals')\n",
        "plt.show()"
      ],
      "metadata": {
        "colab": {
          "base_uri": "https://localhost:8080/",
          "height": 281
        },
        "id": "XG0ipHRb47PB",
        "outputId": "b62879ad-3bd5-452b-8e00-4c66d08f7323"
      },
      "execution_count": 63,
      "outputs": [
        {
          "output_type": "display_data",
          "data": {
            "image/png": "[encoded data removed]",
            "text/plain": [
              "<Figure size 432x288 with 1 Axes>"
            ]
          },
          "metadata": {}
        }
      ]
    },
    {
      "cell_type": "markdown",
      "source": [
        "The graph shows us the distribution of errors of my model which indicates that the the Errors are normaly distributed."
      ],
      "metadata": {
        "id": "vrUdEu7E6n-2"
      }
    },
    {
      "cell_type": "code",
      "source": [
        "import pylab\n",
        "import scipy.stats as stats\n",
        "stats.probplot(residual, dist='norm',plot=pylab)\n",
        "plt.show()"
      ],
      "metadata": {
        "colab": {
          "base_uri": "https://localhost:8080/",
          "height": 295
        },
        "id": "7aPlO6Z54-M0",
        "outputId": "6a009a5a-ff60-4a0b-d859-67a14c14888b"
      },
      "execution_count": 64,
      "outputs": [
        {
          "output_type": "display_data",
          "data": {
            "image/png": "[encoded data removed]",
            "text/plain": [
              "<Figure size 432x288 with 1 Axes>"
            ]
          },
          "metadata": {}
        }
      ]
    },
    {
      "cell_type": "markdown",
      "source": [
        "### TEST FOR HOMOSCEDASTIC\n",
        "\n",
        "H0 = Residuals are homoscedastic\n",
        "\n",
        "Ha = Residuals are hetroscedastic"
      ],
      "metadata": {
        "id": "XhEsTYJY5BRw"
      }
    },
    {
      "cell_type": "code",
      "source": [
        "import statsmodels.stats.api as sms\n",
        "from statsmodels.compat import lzip\n",
        "\n",
        "name = ['F statistic','p-value']\n",
        "test = sms.het_goldfeldquandt(residual,X_train1_aux)\n",
        "lzip(name,test)\n",
        "# Since p-value > 0.05 we say that the residuals are homoscedastic. This assumption is ttherefore valid in the data."
      ],
      "metadata": {
        "colab": {
          "base_uri": "https://localhost:8080/"
        },
        "id": "W1xfoFfK5C0g",
        "outputId": "003394e9-40ab-4043-907f-4f2f011dbef3"
      },
      "execution_count": 65,
      "outputs": [
        {
          "output_type": "execute_result",
          "data": {
            "text/plain": [
              "[('F statistic', 0.9463777543272881), ('p-value', 0.7909476427985443)]"
            ]
          },
          "metadata": {},
          "execution_count": 65
        }
      ]
    },
    {
      "cell_type": "code",
      "source": [
        ""
      ],
      "metadata": {
        "id": "I7lC33_C7EE4"
      },
      "execution_count": null,
      "outputs": []
    },
    {
      "cell_type": "markdown",
      "source": [
        "# Conclusion: "
      ],
      "metadata": {
        "id": "pK9yawSc8F9B"
      }
    },
    {
      "cell_type": "markdown",
      "source": [
        "We are choosing the stats model as it is givng us better results as compared to sklearn model. The following graph shows me how much my model is Predicting as compared to the Actual Values."
      ],
      "metadata": {
        "id": "rtOu9Y2u9Uek"
      }
    },
    {
      "cell_type": "code",
      "source": [
        "ax1 = sns.distplot(df['Interest_Rate'],color = 'red',label = 'Actual Value')\n",
        "sns.distplot(pred_test_stats_model,color = 'blue',label = 'Fitted Value',ax=ax1)\n",
        "plt.title('Actual Vs Fitted Values')\n",
        "plt.xlabel('Target')\n",
        "plt.ylabel('Predicted_Target')\n",
        "plt.legend()\n",
        "plt.show()"
      ],
      "metadata": {
        "colab": {
          "base_uri": "https://localhost:8080/",
          "height": 295
        },
        "id": "0Nok9Gep87wZ",
        "outputId": "8400fba4-342c-4737-b914-91c916bba2a1"
      },
      "execution_count": 76,
      "outputs": [
        {
          "output_type": "display_data",
          "data": {
            "image/png": "[encoded data removed]",
            "text/plain": [
              "<Figure size 432x288 with 1 Axes>"
            ]
          },
          "metadata": {}
        }
      ]
    },
    {
      "cell_type": "code",
      "source": [
        ""
      ],
      "metadata": {
        "id": "7jcK3N3F9mbX"
      },
      "execution_count": null,
      "outputs": []
    }
  ]
}